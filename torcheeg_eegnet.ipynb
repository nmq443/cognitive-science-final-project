{
 "cells": [
  {
   "cell_type": "code",
   "execution_count": 1,
   "id": "81984ed7-3ae8-441c-9436-bfedda1af8cd",
   "metadata": {
    "editable": true,
    "slideshow": {
     "slide_type": ""
    },
    "tags": []
   },
   "outputs": [],
   "source": [
    "# if run on colab\n",
    "#!pip install torcheeg\n",
    "#from google.colab import mount\n",
    "#drive.mount('/content/drive', force_remount=True) "
   ]
  },
  {
   "cell_type": "code",
   "execution_count": 2,
   "id": "cc12ebc4-a1d2-4f87-a55a-b57284590a8a",
   "metadata": {},
   "outputs": [],
   "source": [
    "import torcheeg\n",
    "from torcheeg import transforms\n",
    "from torcheeg.datasets import BCICIV2aDataset\n",
    "from torcheeg.model_selection import KFoldGroupbyTrial\n",
    "from torch.utils.data import DataLoader\n",
    "from torcheeg.models import ATCNet, EEGNet\n",
    "import torch\n",
    "from torcheeg.trainers import ClassifierTrainer\n",
    "import pytorch_lightning as pl"
   ]
  },
  {
   "cell_type": "code",
   "execution_count": 3,
   "id": "25c188ee-941b-4fcd-944f-ea31490ba99a",
   "metadata": {},
   "outputs": [
    {
     "name": "stderr",
     "output_type": "stream",
     "text": [
      "[2024-05-13 15:30:34] INFO (torcheeg/MainThread) 🔍 | Processing EEG data. Processed EEG data has been cached to \u001b[92m.torcheeg/datasets_1715589034831_pfnqB\u001b[0m.\n",
      "[2024-05-13 15:30:34] INFO (torcheeg/MainThread) ⏳ | Monitoring the detailed processing of a record for debugging. The processing of other records will only be reported in percentage to keep it clean.\n",
      "[PROCESS]:   0%|                                       | 0/18 [00:00<?, ?it/s]\n",
      "[RECORD ./BCICIV-2a-mat/A06E.mat]: 0it [00:00, ?it/s]\u001b[A\n",
      "[RECORD ./BCICIV-2a-mat/A06E.mat]: 1it [00:00,  1.99it/s]\u001b[A\n",
      "[RECORD ./BCICIV-2a-mat/A06E.mat]: 37it [00:00, 81.11it/s]\u001b[A\n",
      "[RECORD ./BCICIV-2a-mat/A06E.mat]: 75it [00:00, 152.36it/s]\u001b[A\n",
      "[RECORD ./BCICIV-2a-mat/A06E.mat]: 114it [00:00, 212.70it/s]\u001b[A\n",
      "[RECORD ./BCICIV-2a-mat/A06E.mat]: 148it [00:00, 246.49it/s]\u001b[A\n",
      "[RECORD ./BCICIV-2a-mat/A06E.mat]: 182it [00:01, 268.01it/s]\u001b[A\n",
      "[RECORD ./BCICIV-2a-mat/A06E.mat]: 215it [00:01, 284.54it/s]\u001b[A\n",
      "[PROCESS]:  22%|██████▉                        | 4/18 [00:02<00:09,  1.41it/s]\n",
      "[PROCESS]: 100%|██████████████████████████████| 18/18 [00:12<00:00,  1.40it/s]\n",
      "[2024-05-13 15:30:49] INFO (torcheeg/MainThread) ✅ | All processed EEG data has been cached to .torcheeg/datasets_1715589034831_pfnqB.\n",
      "[2024-05-13 15:30:49] INFO (torcheeg/MainThread) 😊 | Please set \u001b[92mio_path\u001b[0m to \u001b[92m.torcheeg/datasets_1715589034831_pfnqB\u001b[0m for the next run, to directly read from the cache if you wish to skip the data processing step.\n"
     ]
    }
   ],
   "source": [
    "dataset = BCICIV2aDataset(\n",
    "    root_path='./BCICIV-2a-mat/',\n",
    "    io_path=f'./examples_pipeline/bciciv-2a',\n",
    "    # skip_trial_with_artifacts=True,\n",
    "    # offline_transform=transforms.Compose([\n",
    "    #     transforms.BandDifferentialEntropy(apply_to_baseline=True),\n",
    "    #     transforms.To2d(apply_to_baseline=True),\n",
    "    #     transforms.ToTensor(apply_to_baseline=True)\n",
    "    # ]),\n",
    "    online_transform=transforms.Compose([\n",
    "        # transforms.To2d(apply_to_baseline=True),\n",
    "        # transforms.ToTensor(apply_to_baseline=True),\n",
    "        transforms.To2d(),\n",
    "        transforms.ToTensor(),\n",
    "        # transforms.CWTSpectrum(apply_to_baseline=True),\n",
    "        # transforms.BandDifferentialEntropy(apply_to_baseline=True),\n",
    "        # transforms.BaselineRemoval(),\n",
    "    ]),\n",
    "    label_transform=transforms.Compose([\n",
    "        transforms.Select('label'),\n",
    "        transforms.Lambda(lambda x: x - 1)\n",
    "    ]),\n",
    "    chunk_size=7*250,\n",
    "    num_worker=2\n",
    ")"
   ]
  },
  {
   "cell_type": "code",
   "execution_count": 4,
   "id": "355ef69c-bc37-4e98-aae7-36eab6edac00",
   "metadata": {},
   "outputs": [
    {
     "name": "stdout",
     "output_type": "stream",
     "text": [
      "Dataset's info: \n",
      "      start_at  end_at   clip_id subject_id  trial_id session subject  run  \\\n",
      "0          251    2001    A06E_0        A06         0       E     A06    3   \n",
      "1         2254    4004    A06E_1        A06         1       E     A06    3   \n",
      "2         4172    5922    A06E_2        A06         2       E     A06    3   \n",
      "3         6124    7874    A06E_3        A06         3       E     A06    3   \n",
      "4         8132    9882    A06E_4        A06         4       E     A06    3   \n",
      "...        ...     ...       ...        ...       ...     ...     ...  ...   \n",
      "5179     86751   88501  A05T_283        A05        43       T     A05    8   \n",
      "5180     88657   90407  A05T_284        A05        44       T     A05    8   \n",
      "5181     90585   92335  A05T_285        A05        45       T     A05    8   \n",
      "5182     92699   94449  A05T_286        A05        46       T     A05    8   \n",
      "5183     94758   96508  A05T_287        A05        47       T     A05    8   \n",
      "\n",
      "      label  _record_id  \n",
      "0         1   _record_0  \n",
      "1         2   _record_0  \n",
      "2         2   _record_0  \n",
      "3         1   _record_0  \n",
      "4         2   _record_0  \n",
      "...     ...         ...  \n",
      "5179      3  _record_17  \n",
      "5180      4  _record_17  \n",
      "5181      3  _record_17  \n",
      "5182      1  _record_17  \n",
      "5183      3  _record_17  \n",
      "\n",
      "[5184 rows x 10 columns]\n"
     ]
    }
   ],
   "source": [
    "print(\"Dataset's info: \")\n",
    "print(dataset.info)"
   ]
  },
  {
   "cell_type": "code",
   "execution_count": 5,
   "id": "d9c73c66-fee0-4ea9-a0b3-05f43ac8e12f",
   "metadata": {},
   "outputs": [],
   "source": [
    "k_fold = KFoldGroupbyTrial(\n",
    "    n_splits=10,\n",
    "    split_path='./examples_pipeline/split',\n",
    "    shuffle=True,\n",
    "    random_state=44\n",
    ")"
   ]
  },
  {
   "cell_type": "code",
   "execution_count": 7,
   "id": "ce5fcace-ca0f-4abd-9de5-4075aa01394f",
   "metadata": {
    "editable": true,
    "slideshow": {
     "slide_type": ""
    },
    "tags": []
   },
   "outputs": [
    {
     "name": "stderr",
     "output_type": "stream",
     "text": [
      "[2024-05-13 15:31:28] INFO (torcheeg/MainThread) 📊 | Create the split of train and test set.\n",
      "[2024-05-13 15:31:28] INFO (torcheeg/MainThread) 😊 | Please set \u001b[92msplit_path\u001b[0m to \u001b[92m./examples_pipeline/split\u001b[0m for the next run, if you want to use the same setting for the experiment.\n",
      "GPU available: False, used: False\n",
      "TPU available: False, using: 0 TPU cores\n",
      "IPU available: False, using: 0 IPUs\n",
      "HPU available: False, using: 0 HPUs\n",
      "/home/quang/yes/envs/cognitive-computing/lib/python3.10/site-packages/pytorch_lightning/trainer/connectors/logger_connector/logger_connector.py:75: Starting from v1.9.0, `tensorboardX` has been removed as a dependency of the `pytorch_lightning` package, due to potential conflicts with other packages in the ML ecosystem. For this reason, `logger=True` will use `CSVLogger` as the default logger, unless the `tensorboard` or `tensorboardX` packages are found. Please `pip install lightning[extra]` or one of them to enable TensorBoard support by default\n",
      "Missing logger folder: examples_pipeline/model/0/lightning_logs\n",
      "\n",
      "  | Name          | Type             | Params\n",
      "---------------------------------------------------\n",
      "0 | model         | EEGNet           | 4.9 K \n",
      "1 | ce_fn         | CrossEntropyLoss | 0     \n",
      "2 | train_loss    | MeanMetric       | 0     \n",
      "3 | val_loss      | MeanMetric       | 0     \n",
      "4 | test_loss     | MeanMetric       | 0     \n",
      "5 | train_metrics | MetricCollection | 0     \n",
      "6 | val_metrics   | MetricCollection | 0     \n",
      "7 | test_metrics  | MetricCollection | 0     \n",
      "---------------------------------------------------\n",
      "4.9 K     Trainable params\n",
      "0         Non-trainable params\n",
      "4.9 K     Total params\n",
      "0.020     Total estimated model params size (MB)\n",
      "/home/quang/yes/envs/cognitive-computing/lib/python3.10/site-packages/pytorch_lightning/trainer/connectors/data_connector.py:441: The 'train_dataloader' does not have many workers which may be a bottleneck. Consider increasing the value of the `num_workers` argument` to `num_workers=7` in the `DataLoader` to improve performance.\n"
     ]
    },
    {
     "name": "stdout",
     "output_type": "stream",
     "text": [
      "Epoch 0: 100%|█| 68/68 [00:19<00:00,  3.42it/s, v_num=0, train_loss=1.390, tra"
     ]
    },
    {
     "name": "stderr",
     "output_type": "stream",
     "text": [
      "[2024-05-13 15:31:49] INFO (torcheeg/MainThread) \n",
      "[Train] train_loss: 1.409 train_accuracy: 0.261 \n",
      "\n"
     ]
    },
    {
     "name": "stdout",
     "output_type": "stream",
     "text": [
      "Epoch 1: 100%|█| 68/68 [00:18<00:00,  3.58it/s, v_num=0, train_loss=1.370, tra"
     ]
    },
    {
     "name": "stderr",
     "output_type": "stream",
     "text": [
      "[2024-05-13 15:32:08] INFO (torcheeg/MainThread) \n",
      "[Train] train_loss: 1.385 train_accuracy: 0.285 \n",
      "\n"
     ]
    },
    {
     "name": "stdout",
     "output_type": "stream",
     "text": [
      "Epoch 2: 100%|█| 68/68 [00:19<00:00,  3.47it/s, v_num=0, train_loss=1.360, tra"
     ]
    },
    {
     "name": "stderr",
     "output_type": "stream",
     "text": [
      "[2024-05-13 15:32:28] INFO (torcheeg/MainThread) \n",
      "[Train] train_loss: 1.361 train_accuracy: 0.316 \n",
      "\n"
     ]
    },
    {
     "name": "stdout",
     "output_type": "stream",
     "text": [
      "Epoch 3: 100%|█| 68/68 [00:20<00:00,  3.31it/s, v_num=0, train_loss=1.280, tra"
     ]
    },
    {
     "name": "stderr",
     "output_type": "stream",
     "text": [
      "[2024-05-13 15:32:48] INFO (torcheeg/MainThread) \n",
      "[Train] train_loss: 1.340 train_accuracy: 0.350 \n",
      "\n"
     ]
    },
    {
     "name": "stdout",
     "output_type": "stream",
     "text": [
      "Epoch 4: 100%|█| 68/68 [00:23<00:00,  2.87it/s, v_num=0, train_loss=1.350, tra"
     ]
    },
    {
     "name": "stderr",
     "output_type": "stream",
     "text": [
      "[2024-05-13 15:33:12] INFO (torcheeg/MainThread) \n",
      "[Train] train_loss: 1.319 train_accuracy: 0.379 \n",
      "\n"
     ]
    },
    {
     "name": "stdout",
     "output_type": "stream",
     "text": [
      "Epoch 5: 100%|█| 68/68 [00:23<00:00,  2.91it/s, v_num=0, train_loss=1.300, tra"
     ]
    },
    {
     "name": "stderr",
     "output_type": "stream",
     "text": [
      "[2024-05-13 15:33:35] INFO (torcheeg/MainThread) \n",
      "[Train] train_loss: 1.294 train_accuracy: 0.413 \n",
      "\n"
     ]
    },
    {
     "name": "stdout",
     "output_type": "stream",
     "text": [
      "Epoch 6: 100%|█| 68/68 [00:23<00:00,  2.94it/s, v_num=0, train_loss=1.230, tra"
     ]
    },
    {
     "name": "stderr",
     "output_type": "stream",
     "text": [
      "[2024-05-13 15:33:59] INFO (torcheeg/MainThread) \n",
      "[Train] train_loss: 1.271 train_accuracy: 0.427 \n",
      "\n"
     ]
    },
    {
     "name": "stdout",
     "output_type": "stream",
     "text": [
      "Epoch 7: 100%|█| 68/68 [00:20<00:00,  3.27it/s, v_num=0, train_loss=1.210, tra"
     ]
    },
    {
     "name": "stderr",
     "output_type": "stream",
     "text": [
      "[2024-05-13 15:34:19] INFO (torcheeg/MainThread) \n",
      "[Train] train_loss: 1.242 train_accuracy: 0.456 \n",
      "\n"
     ]
    },
    {
     "name": "stdout",
     "output_type": "stream",
     "text": [
      "Epoch 8: 100%|█| 68/68 [00:20<00:00,  3.33it/s, v_num=0, train_loss=1.250, tra"
     ]
    },
    {
     "name": "stderr",
     "output_type": "stream",
     "text": [
      "[2024-05-13 15:34:40] INFO (torcheeg/MainThread) \n",
      "[Train] train_loss: 1.225 train_accuracy: 0.466 \n",
      "\n"
     ]
    },
    {
     "name": "stdout",
     "output_type": "stream",
     "text": [
      "Epoch 9: 100%|███████████████████████████████████████████████████████████████| 68/68 [00:26<00:00,  2.59it/s, v_num=0, train_loss=1.380, train_accuracy=0.312]"
     ]
    },
    {
     "name": "stderr",
     "output_type": "stream",
     "text": [
      "[2024-05-13 15:35:06] INFO (torcheeg/MainThread) \n",
      "[Train] train_loss: 1.198 train_accuracy: 0.481 \n",
      "\n",
      "`Trainer.fit` stopped: `max_epochs=10` reached.\n"
     ]
    },
    {
     "name": "stdout",
     "output_type": "stream",
     "text": [
      "Epoch 9: 100%|███████████████████████████████████████████████████████████████| 68/68 [00:26<00:00,  2.58it/s, v_num=0, train_loss=1.380, train_accuracy=0.312]\n"
     ]
    },
    {
     "name": "stderr",
     "output_type": "stream",
     "text": [
      "GPU available: False, used: False\n",
      "TPU available: False, using: 0 TPU cores\n",
      "IPU available: False, using: 0 IPUs\n",
      "HPU available: False, using: 0 HPUs\n",
      "/home/quang/yes/envs/cognitive-computing/lib/python3.10/site-packages/pytorch_lightning/trainer/connectors/data_connector.py:441: The 'test_dataloader' does not have many workers which may be a bottleneck. Consider increasing the value of the `num_workers` argument` to `num_workers=7` in the `DataLoader` to improve performance.\n"
     ]
    },
    {
     "name": "stdout",
     "output_type": "stream",
     "text": [
      "Testing DataLoader 0: 100%|███████████████████████████████████████████████████████████████████████████████████████████████████| 14/14 [00:02<00:00,  6.74it/s]"
     ]
    },
    {
     "name": "stderr",
     "output_type": "stream",
     "text": [
      "[2024-05-13 15:35:08] INFO (torcheeg/MainThread) \n",
      "[Test] test_loss: 1.239 test_accuracy: 0.444 \n",
      "\n"
     ]
    },
    {
     "name": "stdout",
     "output_type": "stream",
     "text": [
      "Testing DataLoader 0: 100%|███████████████████████████████████████████████████████████████████████████████████████████████████| 14/14 [00:02<00:00,  6.72it/s]\n",
      "────────────────────────────────────────────────────────────────────────────────────────────────────────────────────────\n",
      "       Test metric             DataLoader 0\n",
      "────────────────────────────────────────────────────────────────────────────────────────────────────────────────────────\n",
      "      test_accuracy         0.4444444477558136\n",
      "        test_loss            1.239283561706543\n",
      "────────────────────────────────────────────────────────────────────────────────────────────────────────────────────────\n",
      "Fold 0 test accuracy:  0.4444\n"
     ]
    },
    {
     "name": "stderr",
     "output_type": "stream",
     "text": [
      "GPU available: False, used: False\n",
      "TPU available: False, using: 0 TPU cores\n",
      "IPU available: False, using: 0 IPUs\n",
      "HPU available: False, using: 0 HPUs\n",
      "Missing logger folder: examples_pipeline/model/1/lightning_logs\n",
      "\n",
      "  | Name          | Type             | Params\n",
      "---------------------------------------------------\n",
      "0 | model         | EEGNet           | 4.9 K \n",
      "1 | ce_fn         | CrossEntropyLoss | 0     \n",
      "2 | train_loss    | MeanMetric       | 0     \n",
      "3 | val_loss      | MeanMetric       | 0     \n",
      "4 | test_loss     | MeanMetric       | 0     \n",
      "5 | train_metrics | MetricCollection | 0     \n",
      "6 | val_metrics   | MetricCollection | 0     \n",
      "7 | test_metrics  | MetricCollection | 0     \n",
      "---------------------------------------------------\n",
      "4.9 K     Trainable params\n",
      "0         Non-trainable params\n",
      "4.9 K     Total params\n",
      "0.020     Total estimated model params size (MB)\n",
      "/home/quang/yes/envs/cognitive-computing/lib/python3.10/site-packages/pytorch_lightning/trainer/connectors/data_connector.py:441: The 'train_dataloader' does not have many workers which may be a bottleneck. Consider increasing the value of the `num_workers` argument` to `num_workers=7` in the `DataLoader` to improve performance.\n"
     ]
    },
    {
     "name": "stdout",
     "output_type": "stream",
     "text": [
      "Epoch 0: 100%|███████████████████████████████████████████████████████████████| 68/68 [00:29<00:00,  2.28it/s, v_num=0, train_loss=1.400, train_accuracy=0.188]"
     ]
    },
    {
     "name": "stderr",
     "output_type": "stream",
     "text": [
      "[2024-05-13 15:35:38] INFO (torcheeg/MainThread) \n",
      "[Train] train_loss: 1.404 train_accuracy: 0.258 \n",
      "\n"
     ]
    },
    {
     "name": "stdout",
     "output_type": "stream",
     "text": [
      "Epoch 1: 100%|███████████████████████████████████████████████████████████████| 68/68 [00:29<00:00,  2.34it/s, v_num=0, train_loss=1.360, train_accuracy=0.219]"
     ]
    },
    {
     "name": "stderr",
     "output_type": "stream",
     "text": [
      "[2024-05-13 15:36:07] INFO (torcheeg/MainThread) \n",
      "[Train] train_loss: 1.377 train_accuracy: 0.292 \n",
      "\n"
     ]
    },
    {
     "name": "stdout",
     "output_type": "stream",
     "text": [
      "Epoch 2: 100%|███████████████████████████████████████████████████████████████| 68/68 [00:23<00:00,  2.88it/s, v_num=0, train_loss=1.410, train_accuracy=0.344]"
     ]
    },
    {
     "name": "stderr",
     "output_type": "stream",
     "text": [
      "[2024-05-13 15:36:31] INFO (torcheeg/MainThread) \n",
      "[Train] train_loss: 1.354 train_accuracy: 0.336 \n",
      "\n"
     ]
    },
    {
     "name": "stdout",
     "output_type": "stream",
     "text": [
      "Epoch 3: 100%|███████████████████████████████████████████████████████████████| 68/68 [00:19<00:00,  3.49it/s, v_num=0, train_loss=1.430, train_accuracy=0.312]"
     ]
    },
    {
     "name": "stderr",
     "output_type": "stream",
     "text": [
      "[2024-05-13 15:36:50] INFO (torcheeg/MainThread) \n",
      "[Train] train_loss: 1.333 train_accuracy: 0.363 \n",
      "\n"
     ]
    },
    {
     "name": "stdout",
     "output_type": "stream",
     "text": [
      "Epoch 4: 100%|███████████████████████████████████████████████████████████████| 68/68 [00:19<00:00,  3.51it/s, v_num=0, train_loss=1.320, train_accuracy=0.438]"
     ]
    },
    {
     "name": "stderr",
     "output_type": "stream",
     "text": [
      "[2024-05-13 15:37:10] INFO (torcheeg/MainThread) \n",
      "[Train] train_loss: 1.304 train_accuracy: 0.399 \n",
      "\n"
     ]
    },
    {
     "name": "stdout",
     "output_type": "stream",
     "text": [
      "Epoch 5: 100%|███████████████████████████████████████████████████████████████| 68/68 [00:19<00:00,  3.50it/s, v_num=0, train_loss=1.340, train_accuracy=0.312]"
     ]
    },
    {
     "name": "stderr",
     "output_type": "stream",
     "text": [
      "[2024-05-13 15:37:29] INFO (torcheeg/MainThread) \n",
      "[Train] train_loss: 1.279 train_accuracy: 0.418 \n",
      "\n"
     ]
    },
    {
     "name": "stdout",
     "output_type": "stream",
     "text": [
      "Epoch 6: 100%|███████████████████████████████████████████████████████████████| 68/68 [00:22<00:00,  3.03it/s, v_num=0, train_loss=1.130, train_accuracy=0.562]"
     ]
    },
    {
     "name": "stderr",
     "output_type": "stream",
     "text": [
      "[2024-05-13 15:37:52] INFO (torcheeg/MainThread) \n",
      "[Train] train_loss: 1.242 train_accuracy: 0.458 \n",
      "\n"
     ]
    },
    {
     "name": "stdout",
     "output_type": "stream",
     "text": [
      "Epoch 7: 100%|███████████████████████████████████████████████████████████████| 68/68 [00:19<00:00,  3.47it/s, v_num=0, train_loss=1.310, train_accuracy=0.344]"
     ]
    },
    {
     "name": "stderr",
     "output_type": "stream",
     "text": [
      "[2024-05-13 15:38:11] INFO (torcheeg/MainThread) \n",
      "[Train] train_loss: 1.223 train_accuracy: 0.478 \n",
      "\n"
     ]
    },
    {
     "name": "stdout",
     "output_type": "stream",
     "text": [
      "Epoch 8: 100%|███████████████████████████████████████████████████████████████| 68/68 [00:19<00:00,  3.51it/s, v_num=0, train_loss=1.170, train_accuracy=0.500]"
     ]
    },
    {
     "name": "stderr",
     "output_type": "stream",
     "text": [
      "[2024-05-13 15:38:31] INFO (torcheeg/MainThread) \n",
      "[Train] train_loss: 1.196 train_accuracy: 0.488 \n",
      "\n"
     ]
    },
    {
     "name": "stdout",
     "output_type": "stream",
     "text": [
      "Epoch 9: 100%|███████████████████████████████████████████████████████████████| 68/68 [00:19<00:00,  3.47it/s, v_num=0, train_loss=1.160, train_accuracy=0.500]"
     ]
    },
    {
     "name": "stderr",
     "output_type": "stream",
     "text": [
      "[2024-05-13 15:38:50] INFO (torcheeg/MainThread) \n",
      "[Train] train_loss: 1.170 train_accuracy: 0.506 \n",
      "\n",
      "`Trainer.fit` stopped: `max_epochs=10` reached.\n"
     ]
    },
    {
     "name": "stdout",
     "output_type": "stream",
     "text": [
      "Epoch 9: 100%|███████████████████████████████████████████████████████████████| 68/68 [00:19<00:00,  3.47it/s, v_num=0, train_loss=1.160, train_accuracy=0.500]\n"
     ]
    },
    {
     "name": "stderr",
     "output_type": "stream",
     "text": [
      "GPU available: False, used: False\n",
      "TPU available: False, using: 0 TPU cores\n",
      "IPU available: False, using: 0 IPUs\n",
      "HPU available: False, using: 0 HPUs\n",
      "/home/quang/yes/envs/cognitive-computing/lib/python3.10/site-packages/pytorch_lightning/trainer/connectors/data_connector.py:441: The 'test_dataloader' does not have many workers which may be a bottleneck. Consider increasing the value of the `num_workers` argument` to `num_workers=7` in the `DataLoader` to improve performance.\n"
     ]
    },
    {
     "name": "stdout",
     "output_type": "stream",
     "text": [
      "Testing DataLoader 0: 100%|███████████████████████████████████████████████████████████████████████████████████████████████████| 14/14 [00:01<00:00,  9.41it/s]"
     ]
    },
    {
     "name": "stderr",
     "output_type": "stream",
     "text": [
      "[2024-05-13 15:38:52] INFO (torcheeg/MainThread) \n",
      "[Test] test_loss: 1.156 test_accuracy: 0.514 \n",
      "\n"
     ]
    },
    {
     "name": "stdout",
     "output_type": "stream",
     "text": [
      "Testing DataLoader 0: 100%|███████████████████████████████████████████████████████████████████████████████████████████████████| 14/14 [00:01<00:00,  9.38it/s]\n",
      "────────────────────────────────────────────────────────────────────────────────────────────────────────────────────────\n",
      "       Test metric             DataLoader 0\n",
      "────────────────────────────────────────────────────────────────────────────────────────────────────────────────────────\n",
      "      test_accuracy         0.5138888955116272\n",
      "        test_loss           1.1563197374343872\n",
      "────────────────────────────────────────────────────────────────────────────────────────────────────────────────────────\n",
      "Fold 1 test accuracy:  0.5139\n"
     ]
    },
    {
     "name": "stderr",
     "output_type": "stream",
     "text": [
      "GPU available: False, used: False\n",
      "TPU available: False, using: 0 TPU cores\n",
      "IPU available: False, using: 0 IPUs\n",
      "HPU available: False, using: 0 HPUs\n",
      "Missing logger folder: examples_pipeline/model/2/lightning_logs\n",
      "\n",
      "  | Name          | Type             | Params\n",
      "---------------------------------------------------\n",
      "0 | model         | EEGNet           | 4.9 K \n",
      "1 | ce_fn         | CrossEntropyLoss | 0     \n",
      "2 | train_loss    | MeanMetric       | 0     \n",
      "3 | val_loss      | MeanMetric       | 0     \n",
      "4 | test_loss     | MeanMetric       | 0     \n",
      "5 | train_metrics | MetricCollection | 0     \n",
      "6 | val_metrics   | MetricCollection | 0     \n",
      "7 | test_metrics  | MetricCollection | 0     \n",
      "---------------------------------------------------\n",
      "4.9 K     Trainable params\n",
      "0         Non-trainable params\n",
      "4.9 K     Total params\n",
      "0.020     Total estimated model params size (MB)\n",
      "/home/quang/yes/envs/cognitive-computing/lib/python3.10/site-packages/pytorch_lightning/trainer/connectors/data_connector.py:441: The 'train_dataloader' does not have many workers which may be a bottleneck. Consider increasing the value of the `num_workers` argument` to `num_workers=7` in the `DataLoader` to improve performance.\n"
     ]
    },
    {
     "name": "stdout",
     "output_type": "stream",
     "text": [
      "Epoch 0: 100%|███████████████████████████████████████████████████████████████| 75/75 [00:21<00:00,  3.56it/s, v_num=0, train_loss=1.460, train_accuracy=0.188]"
     ]
    },
    {
     "name": "stderr",
     "output_type": "stream",
     "text": [
      "[2024-05-13 15:39:13] INFO (torcheeg/MainThread) \n",
      "[Train] train_loss: 1.411 train_accuracy: 0.258 \n",
      "\n"
     ]
    },
    {
     "name": "stdout",
     "output_type": "stream",
     "text": [
      "Epoch 1: 100%|███████████████████████████████████████████████████████████████| 75/75 [00:21<00:00,  3.41it/s, v_num=0, train_loss=1.360, train_accuracy=0.125]"
     ]
    },
    {
     "name": "stderr",
     "output_type": "stream",
     "text": [
      "[2024-05-13 15:39:35] INFO (torcheeg/MainThread) \n",
      "[Train] train_loss: 1.381 train_accuracy: 0.299 \n",
      "\n"
     ]
    },
    {
     "name": "stdout",
     "output_type": "stream",
     "text": [
      "Epoch 2: 100%|███████████████████████████████████████████████████████████████| 75/75 [00:25<00:00,  2.99it/s, v_num=0, train_loss=1.380, train_accuracy=0.500]"
     ]
    },
    {
     "name": "stderr",
     "output_type": "stream",
     "text": [
      "[2024-05-13 15:40:00] INFO (torcheeg/MainThread) \n",
      "[Train] train_loss: 1.360 train_accuracy: 0.328 \n",
      "\n"
     ]
    },
    {
     "name": "stdout",
     "output_type": "stream",
     "text": [
      "Epoch 3: 100%|███████████████████████████████████████████████████████████████| 75/75 [00:25<00:00,  2.97it/s, v_num=0, train_loss=1.330, train_accuracy=0.250]"
     ]
    },
    {
     "name": "stderr",
     "output_type": "stream",
     "text": [
      "[2024-05-13 15:40:25] INFO (torcheeg/MainThread) \n",
      "[Train] train_loss: 1.334 train_accuracy: 0.365 \n",
      "\n"
     ]
    },
    {
     "name": "stdout",
     "output_type": "stream",
     "text": [
      "Epoch 4: 100%|███████████████████████████████████████████████████████████████| 75/75 [00:21<00:00,  3.42it/s, v_num=0, train_loss=1.350, train_accuracy=0.375]"
     ]
    },
    {
     "name": "stderr",
     "output_type": "stream",
     "text": [
      "[2024-05-13 15:40:47] INFO (torcheeg/MainThread) \n",
      "[Train] train_loss: 1.309 train_accuracy: 0.384 \n",
      "\n"
     ]
    },
    {
     "name": "stdout",
     "output_type": "stream",
     "text": [
      "Epoch 5: 100%|███████████████████████████████████████████████████████████████| 75/75 [00:21<00:00,  3.45it/s, v_num=0, train_loss=1.290, train_accuracy=0.312]"
     ]
    },
    {
     "name": "stderr",
     "output_type": "stream",
     "text": [
      "[2024-05-13 15:41:09] INFO (torcheeg/MainThread) \n",
      "[Train] train_loss: 1.278 train_accuracy: 0.425 \n",
      "\n"
     ]
    },
    {
     "name": "stdout",
     "output_type": "stream",
     "text": [
      "Epoch 6: 100%|███████████████████████████████████████████████████████████████| 75/75 [00:21<00:00,  3.48it/s, v_num=0, train_loss=1.200, train_accuracy=0.375]"
     ]
    },
    {
     "name": "stderr",
     "output_type": "stream",
     "text": [
      "[2024-05-13 15:41:31] INFO (torcheeg/MainThread) \n",
      "[Train] train_loss: 1.245 train_accuracy: 0.442 \n",
      "\n"
     ]
    },
    {
     "name": "stdout",
     "output_type": "stream",
     "text": [
      "Epoch 7: 100%|███████████████████████████████████████████████████████████████| 75/75 [00:21<00:00,  3.48it/s, v_num=0, train_loss=1.180, train_accuracy=0.562]"
     ]
    },
    {
     "name": "stderr",
     "output_type": "stream",
     "text": [
      "[2024-05-13 15:41:52] INFO (torcheeg/MainThread) \n",
      "[Train] train_loss: 1.216 train_accuracy: 0.466 \n",
      "\n"
     ]
    },
    {
     "name": "stdout",
     "output_type": "stream",
     "text": [
      "Epoch 8: 100%|███████████████████████████████████████████████████████████████| 75/75 [00:21<00:00,  3.47it/s, v_num=0, train_loss=1.220, train_accuracy=0.500]"
     ]
    },
    {
     "name": "stderr",
     "output_type": "stream",
     "text": [
      "[2024-05-13 15:42:14] INFO (torcheeg/MainThread) \n",
      "[Train] train_loss: 1.199 train_accuracy: 0.475 \n",
      "\n"
     ]
    },
    {
     "name": "stdout",
     "output_type": "stream",
     "text": [
      "Epoch 9: 100%|███████████████████████████████████████████████████████████████| 75/75 [00:21<00:00,  3.48it/s, v_num=0, train_loss=1.120, train_accuracy=0.500]"
     ]
    },
    {
     "name": "stderr",
     "output_type": "stream",
     "text": [
      "[2024-05-13 15:42:35] INFO (torcheeg/MainThread) \n",
      "[Train] train_loss: 1.174 train_accuracy: 0.493 \n",
      "\n",
      "`Trainer.fit` stopped: `max_epochs=10` reached.\n"
     ]
    },
    {
     "name": "stdout",
     "output_type": "stream",
     "text": [
      "Epoch 9: 100%|███████████████████████████████████████████████████████████████| 75/75 [00:21<00:00,  3.47it/s, v_num=0, train_loss=1.120, train_accuracy=0.500]\n"
     ]
    },
    {
     "name": "stderr",
     "output_type": "stream",
     "text": [
      "GPU available: False, used: False\n",
      "TPU available: False, using: 0 TPU cores\n",
      "IPU available: False, using: 0 IPUs\n",
      "HPU available: False, using: 0 HPUs\n",
      "/home/quang/yes/envs/cognitive-computing/lib/python3.10/site-packages/pytorch_lightning/trainer/connectors/data_connector.py:441: The 'test_dataloader' does not have many workers which may be a bottleneck. Consider increasing the value of the `num_workers` argument` to `num_workers=7` in the `DataLoader` to improve performance.\n"
     ]
    },
    {
     "name": "stdout",
     "output_type": "stream",
     "text": [
      "Testing DataLoader 0: 100%|█████████████████████████████████████████████████████████████████████████████████████████████████████| 7/7 [00:00<00:00,  9.95it/s]"
     ]
    },
    {
     "name": "stderr",
     "output_type": "stream",
     "text": [
      "[2024-05-13 15:42:36] INFO (torcheeg/MainThread) \n",
      "[Test] test_loss: 1.221 test_accuracy: 0.477 \n",
      "\n"
     ]
    },
    {
     "name": "stdout",
     "output_type": "stream",
     "text": [
      "Testing DataLoader 0: 100%|█████████████████████████████████████████████████████████████████████████████████████████████████████| 7/7 [00:00<00:00,  9.90it/s]\n",
      "────────────────────────────────────────────────────────────────────────────────────────────────────────────────────────\n",
      "       Test metric             DataLoader 0\n",
      "────────────────────────────────────────────────────────────────────────────────────────────────────────────────────────\n",
      "      test_accuracy         0.47685185074806213\n",
      "        test_loss           1.2210350036621094\n",
      "────────────────────────────────────────────────────────────────────────────────────────────────────────────────────────\n",
      "Fold 2 test accuracy:  0.4769\n"
     ]
    },
    {
     "name": "stderr",
     "output_type": "stream",
     "text": [
      "GPU available: False, used: False\n",
      "TPU available: False, using: 0 TPU cores\n",
      "IPU available: False, using: 0 IPUs\n",
      "HPU available: False, using: 0 HPUs\n",
      "Missing logger folder: examples_pipeline/model/3/lightning_logs\n",
      "\n",
      "  | Name          | Type             | Params\n",
      "---------------------------------------------------\n",
      "0 | model         | EEGNet           | 4.9 K \n",
      "1 | ce_fn         | CrossEntropyLoss | 0     \n",
      "2 | train_loss    | MeanMetric       | 0     \n",
      "3 | val_loss      | MeanMetric       | 0     \n",
      "4 | test_loss     | MeanMetric       | 0     \n",
      "5 | train_metrics | MetricCollection | 0     \n",
      "6 | val_metrics   | MetricCollection | 0     \n",
      "7 | test_metrics  | MetricCollection | 0     \n",
      "---------------------------------------------------\n",
      "4.9 K     Trainable params\n",
      "0         Non-trainable params\n",
      "4.9 K     Total params\n",
      "0.020     Total estimated model params size (MB)\n",
      "/home/quang/yes/envs/cognitive-computing/lib/python3.10/site-packages/pytorch_lightning/trainer/connectors/data_connector.py:441: The 'train_dataloader' does not have many workers which may be a bottleneck. Consider increasing the value of the `num_workers` argument` to `num_workers=7` in the `DataLoader` to improve performance.\n"
     ]
    },
    {
     "name": "stdout",
     "output_type": "stream",
     "text": [
      "Epoch 0: 100%|███████████████████████████████████████████████████████████████| 75/75 [00:21<00:00,  3.51it/s, v_num=0, train_loss=1.330, train_accuracy=0.312]"
     ]
    },
    {
     "name": "stderr",
     "output_type": "stream",
     "text": [
      "[2024-05-13 15:42:58] INFO (torcheeg/MainThread) \n",
      "[Train] train_loss: 1.404 train_accuracy: 0.273 \n",
      "\n"
     ]
    },
    {
     "name": "stdout",
     "output_type": "stream",
     "text": [
      "Epoch 1: 100%|███████████████████████████████████████████████████████████████| 75/75 [00:21<00:00,  3.51it/s, v_num=0, train_loss=1.210, train_accuracy=0.688]"
     ]
    },
    {
     "name": "stderr",
     "output_type": "stream",
     "text": [
      "[2024-05-13 15:43:19] INFO (torcheeg/MainThread) \n",
      "[Train] train_loss: 1.370 train_accuracy: 0.311 \n",
      "\n"
     ]
    },
    {
     "name": "stdout",
     "output_type": "stream",
     "text": [
      "Epoch 2: 100%|███████████████████████████████████████████████████████████████| 75/75 [00:21<00:00,  3.51it/s, v_num=0, train_loss=1.480, train_accuracy=0.250]"
     ]
    },
    {
     "name": "stderr",
     "output_type": "stream",
     "text": [
      "[2024-05-13 15:43:40] INFO (torcheeg/MainThread) \n",
      "[Train] train_loss: 1.346 train_accuracy: 0.353 \n",
      "\n"
     ]
    },
    {
     "name": "stdout",
     "output_type": "stream",
     "text": [
      "Epoch 3: 100%|███████████████████████████████████████████████████████████████| 75/75 [00:21<00:00,  3.51it/s, v_num=0, train_loss=1.270, train_accuracy=0.375]"
     ]
    },
    {
     "name": "stderr",
     "output_type": "stream",
     "text": [
      "[2024-05-13 15:44:02] INFO (torcheeg/MainThread) \n",
      "[Train] train_loss: 1.322 train_accuracy: 0.370 \n",
      "\n"
     ]
    },
    {
     "name": "stdout",
     "output_type": "stream",
     "text": [
      "Epoch 4: 100%|███████████████████████████████████████████████████████████████| 75/75 [00:21<00:00,  3.52it/s, v_num=0, train_loss=1.180, train_accuracy=0.438]"
     ]
    },
    {
     "name": "stderr",
     "output_type": "stream",
     "text": [
      "[2024-05-13 15:44:23] INFO (torcheeg/MainThread) \n",
      "[Train] train_loss: 1.300 train_accuracy: 0.393 \n",
      "\n"
     ]
    },
    {
     "name": "stdout",
     "output_type": "stream",
     "text": [
      "Epoch 5: 100%|███████████████████████████████████████████████████████████████| 75/75 [00:21<00:00,  3.48it/s, v_num=0, train_loss=1.060, train_accuracy=0.625]"
     ]
    },
    {
     "name": "stderr",
     "output_type": "stream",
     "text": [
      "[2024-05-13 15:44:45] INFO (torcheeg/MainThread) \n",
      "[Train] train_loss: 1.275 train_accuracy: 0.413 \n",
      "\n"
     ]
    },
    {
     "name": "stdout",
     "output_type": "stream",
     "text": [
      "Epoch 6: 100%|███████████████████████████████████████████████████████████████| 75/75 [00:21<00:00,  3.47it/s, v_num=0, train_loss=1.510, train_accuracy=0.250]"
     ]
    },
    {
     "name": "stderr",
     "output_type": "stream",
     "text": [
      "[2024-05-13 15:45:06] INFO (torcheeg/MainThread) \n",
      "[Train] train_loss: 1.257 train_accuracy: 0.439 \n",
      "\n"
     ]
    },
    {
     "name": "stdout",
     "output_type": "stream",
     "text": [
      "Epoch 7: 100%|███████████████████████████████████████████████████████████████| 75/75 [00:21<00:00,  3.45it/s, v_num=0, train_loss=1.080, train_accuracy=0.562]"
     ]
    },
    {
     "name": "stderr",
     "output_type": "stream",
     "text": [
      "[2024-05-13 15:45:28] INFO (torcheeg/MainThread) \n",
      "[Train] train_loss: 1.230 train_accuracy: 0.448 \n",
      "\n"
     ]
    },
    {
     "name": "stdout",
     "output_type": "stream",
     "text": [
      "Epoch 8: 100%|███████████████████████████████████████████████████████████████| 75/75 [00:21<00:00,  3.49it/s, v_num=0, train_loss=1.100, train_accuracy=0.625]"
     ]
    },
    {
     "name": "stderr",
     "output_type": "stream",
     "text": [
      "[2024-05-13 15:45:50] INFO (torcheeg/MainThread) \n",
      "[Train] train_loss: 1.207 train_accuracy: 0.476 \n",
      "\n"
     ]
    },
    {
     "name": "stdout",
     "output_type": "stream",
     "text": [
      "Epoch 9: 100%|███████████████████████████████████████████████████████████████| 75/75 [00:21<00:00,  3.47it/s, v_num=0, train_loss=1.300, train_accuracy=0.312]"
     ]
    },
    {
     "name": "stderr",
     "output_type": "stream",
     "text": [
      "[2024-05-13 15:46:11] INFO (torcheeg/MainThread) \n",
      "[Train] train_loss: 1.180 train_accuracy: 0.491 \n",
      "\n",
      "`Trainer.fit` stopped: `max_epochs=10` reached.\n"
     ]
    },
    {
     "name": "stdout",
     "output_type": "stream",
     "text": [
      "Epoch 9: 100%|███████████████████████████████████████████████████████████████| 75/75 [00:21<00:00,  3.46it/s, v_num=0, train_loss=1.300, train_accuracy=0.312]\n"
     ]
    },
    {
     "name": "stderr",
     "output_type": "stream",
     "text": [
      "GPU available: False, used: False\n",
      "TPU available: False, using: 0 TPU cores\n",
      "IPU available: False, using: 0 IPUs\n",
      "HPU available: False, using: 0 HPUs\n",
      "/home/quang/yes/envs/cognitive-computing/lib/python3.10/site-packages/pytorch_lightning/trainer/connectors/data_connector.py:441: The 'test_dataloader' does not have many workers which may be a bottleneck. Consider increasing the value of the `num_workers` argument` to `num_workers=7` in the `DataLoader` to improve performance.\n"
     ]
    },
    {
     "name": "stdout",
     "output_type": "stream",
     "text": [
      "Testing DataLoader 0: 100%|█████████████████████████████████████████████████████████████████████████████████████████████████████| 7/7 [00:00<00:00, 10.07it/s]"
     ]
    },
    {
     "name": "stderr",
     "output_type": "stream",
     "text": [
      "[2024-05-13 15:46:12] INFO (torcheeg/MainThread) \n",
      "[Test] test_loss: 1.167 test_accuracy: 0.542 \n",
      "\n"
     ]
    },
    {
     "name": "stdout",
     "output_type": "stream",
     "text": [
      "Testing DataLoader 0: 100%|█████████████████████████████████████████████████████████████████████████████████████████████████████| 7/7 [00:00<00:00, 10.01it/s]\n",
      "────────────────────────────────────────────────────────────────────────────────────────────────────────────────────────\n",
      "       Test metric             DataLoader 0\n",
      "────────────────────────────────────────────────────────────────────────────────────────────────────────────────────────\n",
      "      test_accuracy         0.5416666865348816\n",
      "        test_loss           1.1671868562698364\n",
      "────────────────────────────────────────────────────────────────────────────────────────────────────────────────────────\n",
      "Fold 3 test accuracy:  0.5417\n"
     ]
    },
    {
     "name": "stderr",
     "output_type": "stream",
     "text": [
      "GPU available: False, used: False\n",
      "TPU available: False, using: 0 TPU cores\n",
      "IPU available: False, using: 0 IPUs\n",
      "HPU available: False, using: 0 HPUs\n",
      "Missing logger folder: examples_pipeline/model/4/lightning_logs\n",
      "\n",
      "  | Name          | Type             | Params\n",
      "---------------------------------------------------\n",
      "0 | model         | EEGNet           | 4.9 K \n",
      "1 | ce_fn         | CrossEntropyLoss | 0     \n",
      "2 | train_loss    | MeanMetric       | 0     \n",
      "3 | val_loss      | MeanMetric       | 0     \n",
      "4 | test_loss     | MeanMetric       | 0     \n",
      "5 | train_metrics | MetricCollection | 0     \n",
      "6 | val_metrics   | MetricCollection | 0     \n",
      "7 | test_metrics  | MetricCollection | 0     \n",
      "---------------------------------------------------\n",
      "4.9 K     Trainable params\n",
      "0         Non-trainable params\n",
      "4.9 K     Total params\n",
      "0.020     Total estimated model params size (MB)\n",
      "/home/quang/yes/envs/cognitive-computing/lib/python3.10/site-packages/pytorch_lightning/trainer/connectors/data_connector.py:441: The 'train_dataloader' does not have many workers which may be a bottleneck. Consider increasing the value of the `num_workers` argument` to `num_workers=7` in the `DataLoader` to improve performance.\n"
     ]
    },
    {
     "name": "stdout",
     "output_type": "stream",
     "text": [
      "Epoch 0: 100%|███████████████████████████████████████████████████████████████| 75/75 [00:21<00:00,  3.51it/s, v_num=0, train_loss=1.380, train_accuracy=0.375]"
     ]
    },
    {
     "name": "stderr",
     "output_type": "stream",
     "text": [
      "[2024-05-13 15:46:33] INFO (torcheeg/MainThread) \n",
      "[Train] train_loss: 1.412 train_accuracy: 0.253 \n",
      "\n"
     ]
    },
    {
     "name": "stdout",
     "output_type": "stream",
     "text": [
      "Epoch 1: 100%|███████████████████████████████████████████████████████████████| 75/75 [00:21<00:00,  3.50it/s, v_num=0, train_loss=1.370, train_accuracy=0.312]"
     ]
    },
    {
     "name": "stderr",
     "output_type": "stream",
     "text": [
      "[2024-05-13 15:46:55] INFO (torcheeg/MainThread) \n",
      "[Train] train_loss: 1.380 train_accuracy: 0.291 \n",
      "\n"
     ]
    },
    {
     "name": "stdout",
     "output_type": "stream",
     "text": [
      "Epoch 2: 100%|███████████████████████████████████████████████████████████████| 75/75 [00:21<00:00,  3.47it/s, v_num=0, train_loss=1.450, train_accuracy=0.250]"
     ]
    },
    {
     "name": "stderr",
     "output_type": "stream",
     "text": [
      "[2024-05-13 15:47:17] INFO (torcheeg/MainThread) \n",
      "[Train] train_loss: 1.355 train_accuracy: 0.332 \n",
      "\n"
     ]
    },
    {
     "name": "stdout",
     "output_type": "stream",
     "text": [
      "Epoch 3: 100%|███████████████████████████████████████████████████████████████| 75/75 [00:21<00:00,  3.48it/s, v_num=0, train_loss=1.280, train_accuracy=0.562]"
     ]
    },
    {
     "name": "stderr",
     "output_type": "stream",
     "text": [
      "[2024-05-13 15:47:38] INFO (torcheeg/MainThread) \n",
      "[Train] train_loss: 1.331 train_accuracy: 0.361 \n",
      "\n"
     ]
    },
    {
     "name": "stdout",
     "output_type": "stream",
     "text": [
      "Epoch 4: 100%|███████████████████████████████████████████████████████████████| 75/75 [00:22<00:00,  3.41it/s, v_num=0, train_loss=1.320, train_accuracy=0.438]"
     ]
    },
    {
     "name": "stderr",
     "output_type": "stream",
     "text": [
      "[2024-05-13 15:48:00] INFO (torcheeg/MainThread) \n",
      "[Train] train_loss: 1.308 train_accuracy: 0.391 \n",
      "\n"
     ]
    },
    {
     "name": "stdout",
     "output_type": "stream",
     "text": [
      "Epoch 5: 100%|███████████████████████████████████████████████████████████████| 75/75 [00:21<00:00,  3.43it/s, v_num=0, train_loss=1.320, train_accuracy=0.312]"
     ]
    },
    {
     "name": "stderr",
     "output_type": "stream",
     "text": [
      "[2024-05-13 15:48:22] INFO (torcheeg/MainThread) \n",
      "[Train] train_loss: 1.283 train_accuracy: 0.418 \n",
      "\n"
     ]
    },
    {
     "name": "stdout",
     "output_type": "stream",
     "text": [
      "Epoch 6: 100%|███████████████████████████████████████████████████████████████| 75/75 [00:21<00:00,  3.49it/s, v_num=0, train_loss=1.380, train_accuracy=0.312]"
     ]
    },
    {
     "name": "stderr",
     "output_type": "stream",
     "text": [
      "[2024-05-13 15:48:44] INFO (torcheeg/MainThread) \n",
      "[Train] train_loss: 1.259 train_accuracy: 0.434 \n",
      "\n"
     ]
    },
    {
     "name": "stdout",
     "output_type": "stream",
     "text": [
      "Epoch 7: 100%|███████████████████████████████████████████████████████████████| 75/75 [00:21<00:00,  3.50it/s, v_num=0, train_loss=1.220, train_accuracy=0.562]"
     ]
    },
    {
     "name": "stderr",
     "output_type": "stream",
     "text": [
      "[2024-05-13 15:49:05] INFO (torcheeg/MainThread) \n",
      "[Train] train_loss: 1.232 train_accuracy: 0.456 \n",
      "\n"
     ]
    },
    {
     "name": "stdout",
     "output_type": "stream",
     "text": [
      "Epoch 8: 100%|███████████████████████████████████████████████████████████████| 75/75 [00:21<00:00,  3.49it/s, v_num=0, train_loss=1.400, train_accuracy=0.375]"
     ]
    },
    {
     "name": "stderr",
     "output_type": "stream",
     "text": [
      "[2024-05-13 15:49:27] INFO (torcheeg/MainThread) \n",
      "[Train] train_loss: 1.210 train_accuracy: 0.481 \n",
      "\n"
     ]
    },
    {
     "name": "stdout",
     "output_type": "stream",
     "text": [
      "Epoch 9: 100%|███████████████████████████████████████████████████████████████| 75/75 [00:21<00:00,  3.49it/s, v_num=0, train_loss=1.390, train_accuracy=0.250]"
     ]
    },
    {
     "name": "stderr",
     "output_type": "stream",
     "text": [
      "[2024-05-13 15:49:48] INFO (torcheeg/MainThread) \n",
      "[Train] train_loss: 1.177 train_accuracy: 0.497 \n",
      "\n",
      "`Trainer.fit` stopped: `max_epochs=10` reached.\n"
     ]
    },
    {
     "name": "stdout",
     "output_type": "stream",
     "text": [
      "Epoch 9: 100%|███████████████████████████████████████████████████████████████| 75/75 [00:21<00:00,  3.49it/s, v_num=0, train_loss=1.390, train_accuracy=0.250]\n"
     ]
    },
    {
     "name": "stderr",
     "output_type": "stream",
     "text": [
      "GPU available: False, used: False\n",
      "TPU available: False, using: 0 TPU cores\n",
      "IPU available: False, using: 0 IPUs\n",
      "HPU available: False, using: 0 HPUs\n",
      "/home/quang/yes/envs/cognitive-computing/lib/python3.10/site-packages/pytorch_lightning/trainer/connectors/data_connector.py:441: The 'test_dataloader' does not have many workers which may be a bottleneck. Consider increasing the value of the `num_workers` argument` to `num_workers=7` in the `DataLoader` to improve performance.\n"
     ]
    },
    {
     "name": "stdout",
     "output_type": "stream",
     "text": [
      "Testing DataLoader 0: 100%|█████████████████████████████████████████████████████████████████████████████████████████████████████| 7/7 [00:00<00:00, 10.16it/s]"
     ]
    },
    {
     "name": "stderr",
     "output_type": "stream",
     "text": [
      "[2024-05-13 15:49:49] INFO (torcheeg/MainThread) \n",
      "[Test] test_loss: 1.200 test_accuracy: 0.484 \n",
      "\n"
     ]
    },
    {
     "name": "stdout",
     "output_type": "stream",
     "text": [
      "Testing DataLoader 0: 100%|█████████████████████████████████████████████████████████████████████████████████████████████████████| 7/7 [00:00<00:00, 10.11it/s]\n",
      "────────────────────────────────────────────────────────────────────────────────────────────────────────────────────────\n",
      "       Test metric             DataLoader 0\n",
      "────────────────────────────────────────────────────────────────────────────────────────────────────────────────────────\n",
      "      test_accuracy         0.48379629850387573\n",
      "        test_loss            1.200330138206482\n",
      "────────────────────────────────────────────────────────────────────────────────────────────────────────────────────────\n",
      "Fold 4 test accuracy:  0.4838\n"
     ]
    },
    {
     "name": "stderr",
     "output_type": "stream",
     "text": [
      "GPU available: False, used: False\n",
      "TPU available: False, using: 0 TPU cores\n",
      "IPU available: False, using: 0 IPUs\n",
      "HPU available: False, using: 0 HPUs\n",
      "Missing logger folder: examples_pipeline/model/5/lightning_logs\n",
      "\n",
      "  | Name          | Type             | Params\n",
      "---------------------------------------------------\n",
      "0 | model         | EEGNet           | 4.9 K \n",
      "1 | ce_fn         | CrossEntropyLoss | 0     \n",
      "2 | train_loss    | MeanMetric       | 0     \n",
      "3 | val_loss      | MeanMetric       | 0     \n",
      "4 | test_loss     | MeanMetric       | 0     \n",
      "5 | train_metrics | MetricCollection | 0     \n",
      "6 | val_metrics   | MetricCollection | 0     \n",
      "7 | test_metrics  | MetricCollection | 0     \n",
      "---------------------------------------------------\n",
      "4.9 K     Trainable params\n",
      "0         Non-trainable params\n",
      "4.9 K     Total params\n",
      "0.020     Total estimated model params size (MB)\n",
      "/home/quang/yes/envs/cognitive-computing/lib/python3.10/site-packages/pytorch_lightning/trainer/connectors/data_connector.py:441: The 'train_dataloader' does not have many workers which may be a bottleneck. Consider increasing the value of the `num_workers` argument` to `num_workers=7` in the `DataLoader` to improve performance.\n"
     ]
    },
    {
     "name": "stdout",
     "output_type": "stream",
     "text": [
      "Epoch 0: 100%|███████████████████████████████████████████████████████████████| 75/75 [00:21<00:00,  3.46it/s, v_num=0, train_loss=1.440, train_accuracy=0.250]"
     ]
    },
    {
     "name": "stderr",
     "output_type": "stream",
     "text": [
      "[2024-05-13 15:50:10] INFO (torcheeg/MainThread) \n",
      "[Train] train_loss: 1.408 train_accuracy: 0.260 \n",
      "\n"
     ]
    },
    {
     "name": "stdout",
     "output_type": "stream",
     "text": [
      "Epoch 1: 100%|███████████████████████████████████████████████████████████████| 75/75 [00:21<00:00,  3.48it/s, v_num=0, train_loss=1.360, train_accuracy=0.312]"
     ]
    },
    {
     "name": "stderr",
     "output_type": "stream",
     "text": [
      "[2024-05-13 15:50:32] INFO (torcheeg/MainThread) \n",
      "[Train] train_loss: 1.375 train_accuracy: 0.304 \n",
      "\n"
     ]
    },
    {
     "name": "stdout",
     "output_type": "stream",
     "text": [
      "Epoch 2: 100%|███████████████████████████████████████████████████████████████| 75/75 [00:21<00:00,  3.46it/s, v_num=0, train_loss=1.260, train_accuracy=0.500]"
     ]
    },
    {
     "name": "stderr",
     "output_type": "stream",
     "text": [
      "[2024-05-13 15:50:54] INFO (torcheeg/MainThread) \n",
      "[Train] train_loss: 1.343 train_accuracy: 0.344 \n",
      "\n"
     ]
    },
    {
     "name": "stdout",
     "output_type": "stream",
     "text": [
      "Epoch 3: 100%|███████████████████████████████████████████████████████████████| 75/75 [00:21<00:00,  3.48it/s, v_num=0, train_loss=1.430, train_accuracy=0.250]"
     ]
    },
    {
     "name": "stderr",
     "output_type": "stream",
     "text": [
      "[2024-05-13 15:51:15] INFO (torcheeg/MainThread) \n",
      "[Train] train_loss: 1.316 train_accuracy: 0.393 \n",
      "\n"
     ]
    },
    {
     "name": "stdout",
     "output_type": "stream",
     "text": [
      "Epoch 4: 100%|███████████████████████████████████████████████████████████████| 75/75 [00:21<00:00,  3.47it/s, v_num=0, train_loss=1.170, train_accuracy=0.500]"
     ]
    },
    {
     "name": "stderr",
     "output_type": "stream",
     "text": [
      "[2024-05-13 15:51:37] INFO (torcheeg/MainThread) \n",
      "[Train] train_loss: 1.282 train_accuracy: 0.409 \n",
      "\n"
     ]
    },
    {
     "name": "stdout",
     "output_type": "stream",
     "text": [
      "Epoch 5: 100%|███████████████████████████████████████████████████████████████| 75/75 [00:21<00:00,  3.50it/s, v_num=0, train_loss=1.300, train_accuracy=0.438]"
     ]
    },
    {
     "name": "stderr",
     "output_type": "stream",
     "text": [
      "[2024-05-13 15:51:58] INFO (torcheeg/MainThread) \n",
      "[Train] train_loss: 1.250 train_accuracy: 0.434 \n",
      "\n"
     ]
    },
    {
     "name": "stdout",
     "output_type": "stream",
     "text": [
      "Epoch 6: 100%|███████████████████████████████████████████████████████████████| 75/75 [00:21<00:00,  3.47it/s, v_num=0, train_loss=1.150, train_accuracy=0.562]"
     ]
    },
    {
     "name": "stderr",
     "output_type": "stream",
     "text": [
      "[2024-05-13 15:52:20] INFO (torcheeg/MainThread) \n",
      "[Train] train_loss: 1.219 train_accuracy: 0.458 \n",
      "\n"
     ]
    },
    {
     "name": "stdout",
     "output_type": "stream",
     "text": [
      "Epoch 7: 100%|███████████████████████████████████████████████████████████████| 75/75 [00:21<00:00,  3.47it/s, v_num=0, train_loss=1.270, train_accuracy=0.375]"
     ]
    },
    {
     "name": "stderr",
     "output_type": "stream",
     "text": [
      "[2024-05-13 15:52:42] INFO (torcheeg/MainThread) \n",
      "[Train] train_loss: 1.191 train_accuracy: 0.484 \n",
      "\n"
     ]
    },
    {
     "name": "stdout",
     "output_type": "stream",
     "text": [
      "Epoch 8: 100%|███████████████████████████████████████████████████████████████| 75/75 [00:21<00:00,  3.50it/s, v_num=0, train_loss=0.983, train_accuracy=0.750]"
     ]
    },
    {
     "name": "stderr",
     "output_type": "stream",
     "text": [
      "[2024-05-13 15:53:03] INFO (torcheeg/MainThread) \n",
      "[Train] train_loss: 1.172 train_accuracy: 0.501 \n",
      "\n"
     ]
    },
    {
     "name": "stdout",
     "output_type": "stream",
     "text": [
      "Epoch 9: 100%|███████████████████████████████████████████████████████████████| 75/75 [00:21<00:00,  3.47it/s, v_num=0, train_loss=1.180, train_accuracy=0.500]"
     ]
    },
    {
     "name": "stderr",
     "output_type": "stream",
     "text": [
      "[2024-05-13 15:53:25] INFO (torcheeg/MainThread) \n",
      "[Train] train_loss: 1.153 train_accuracy: 0.509 \n",
      "\n",
      "`Trainer.fit` stopped: `max_epochs=10` reached.\n"
     ]
    },
    {
     "name": "stdout",
     "output_type": "stream",
     "text": [
      "Epoch 9: 100%|███████████████████████████████████████████████████████████████| 75/75 [00:21<00:00,  3.47it/s, v_num=0, train_loss=1.180, train_accuracy=0.500]\n"
     ]
    },
    {
     "name": "stderr",
     "output_type": "stream",
     "text": [
      "GPU available: False, used: False\n",
      "TPU available: False, using: 0 TPU cores\n",
      "IPU available: False, using: 0 IPUs\n",
      "HPU available: False, using: 0 HPUs\n",
      "/home/quang/yes/envs/cognitive-computing/lib/python3.10/site-packages/pytorch_lightning/trainer/connectors/data_connector.py:441: The 'test_dataloader' does not have many workers which may be a bottleneck. Consider increasing the value of the `num_workers` argument` to `num_workers=7` in the `DataLoader` to improve performance.\n"
     ]
    },
    {
     "name": "stdout",
     "output_type": "stream",
     "text": [
      "Testing DataLoader 0: 100%|█████████████████████████████████████████████████████████████████████████████████████████████████████| 7/7 [00:00<00:00,  9.81it/s]"
     ]
    },
    {
     "name": "stderr",
     "output_type": "stream",
     "text": [
      "[2024-05-13 15:53:25] INFO (torcheeg/MainThread) \n",
      "[Test] test_loss: 1.178 test_accuracy: 0.491 \n",
      "\n"
     ]
    },
    {
     "name": "stdout",
     "output_type": "stream",
     "text": [
      "Testing DataLoader 0: 100%|█████████████████████████████████████████████████████████████████████████████████████████████████████| 7/7 [00:00<00:00,  9.74it/s]\n",
      "────────────────────────────────────────────────────────────────────────────────────────────────────────────────────────\n",
      "       Test metric             DataLoader 0\n",
      "────────────────────────────────────────────────────────────────────────────────────────────────────────────────────────\n",
      "      test_accuracy         0.49074074625968933\n",
      "        test_loss           1.1784082651138306\n",
      "────────────────────────────────────────────────────────────────────────────────────────────────────────────────────────\n",
      "Fold 5 test accuracy:  0.4907\n"
     ]
    },
    {
     "name": "stderr",
     "output_type": "stream",
     "text": [
      "GPU available: False, used: False\n",
      "TPU available: False, using: 0 TPU cores\n",
      "IPU available: False, using: 0 IPUs\n",
      "HPU available: False, using: 0 HPUs\n",
      "Missing logger folder: examples_pipeline/model/6/lightning_logs\n",
      "\n",
      "  | Name          | Type             | Params\n",
      "---------------------------------------------------\n",
      "0 | model         | EEGNet           | 4.9 K \n",
      "1 | ce_fn         | CrossEntropyLoss | 0     \n",
      "2 | train_loss    | MeanMetric       | 0     \n",
      "3 | val_loss      | MeanMetric       | 0     \n",
      "4 | test_loss     | MeanMetric       | 0     \n",
      "5 | train_metrics | MetricCollection | 0     \n",
      "6 | val_metrics   | MetricCollection | 0     \n",
      "7 | test_metrics  | MetricCollection | 0     \n",
      "---------------------------------------------------\n",
      "4.9 K     Trainable params\n",
      "0         Non-trainable params\n",
      "4.9 K     Total params\n",
      "0.020     Total estimated model params size (MB)\n",
      "/home/quang/yes/envs/cognitive-computing/lib/python3.10/site-packages/pytorch_lightning/trainer/connectors/data_connector.py:441: The 'train_dataloader' does not have many workers which may be a bottleneck. Consider increasing the value of the `num_workers` argument` to `num_workers=7` in the `DataLoader` to improve performance.\n"
     ]
    },
    {
     "name": "stdout",
     "output_type": "stream",
     "text": [
      "Epoch 0: 100%|███████████████████████████████████████████████████████████████| 75/75 [00:21<00:00,  3.46it/s, v_num=0, train_loss=1.410, train_accuracy=0.312]"
     ]
    },
    {
     "name": "stderr",
     "output_type": "stream",
     "text": [
      "[2024-05-13 15:53:47] INFO (torcheeg/MainThread) \n",
      "[Train] train_loss: 1.402 train_accuracy: 0.260 \n",
      "\n"
     ]
    },
    {
     "name": "stdout",
     "output_type": "stream",
     "text": [
      "Epoch 1: 100%|███████████████████████████████████████████████████████████████| 75/75 [00:21<00:00,  3.48it/s, v_num=0, train_loss=1.340, train_accuracy=0.312]"
     ]
    },
    {
     "name": "stderr",
     "output_type": "stream",
     "text": [
      "[2024-05-13 15:54:09] INFO (torcheeg/MainThread) \n",
      "[Train] train_loss: 1.375 train_accuracy: 0.296 \n",
      "\n"
     ]
    },
    {
     "name": "stdout",
     "output_type": "stream",
     "text": [
      "Epoch 2: 100%|███████████████████████████████████████████████████████████████| 75/75 [00:21<00:00,  3.50it/s, v_num=0, train_loss=1.380, train_accuracy=0.250]"
     ]
    },
    {
     "name": "stderr",
     "output_type": "stream",
     "text": [
      "[2024-05-13 15:54:30] INFO (torcheeg/MainThread) \n",
      "[Train] train_loss: 1.359 train_accuracy: 0.320 \n",
      "\n"
     ]
    },
    {
     "name": "stdout",
     "output_type": "stream",
     "text": [
      "Epoch 3: 100%|███████████████████████████████████████████████████████████████| 75/75 [00:21<00:00,  3.50it/s, v_num=0, train_loss=1.360, train_accuracy=0.375]"
     ]
    },
    {
     "name": "stderr",
     "output_type": "stream",
     "text": [
      "[2024-05-13 15:54:52] INFO (torcheeg/MainThread) \n",
      "[Train] train_loss: 1.346 train_accuracy: 0.338 \n",
      "\n"
     ]
    },
    {
     "name": "stdout",
     "output_type": "stream",
     "text": [
      "Epoch 4: 100%|███████████████████████████████████████████████████████████████| 75/75 [00:21<00:00,  3.47it/s, v_num=0, train_loss=1.300, train_accuracy=0.375]"
     ]
    },
    {
     "name": "stderr",
     "output_type": "stream",
     "text": [
      "[2024-05-13 15:55:13] INFO (torcheeg/MainThread) \n",
      "[Train] train_loss: 1.318 train_accuracy: 0.375 \n",
      "\n"
     ]
    },
    {
     "name": "stdout",
     "output_type": "stream",
     "text": [
      "Epoch 5: 100%|███████████████████████████████████████████████████████████████| 75/75 [00:21<00:00,  3.47it/s, v_num=0, train_loss=1.290, train_accuracy=0.375]"
     ]
    },
    {
     "name": "stderr",
     "output_type": "stream",
     "text": [
      "[2024-05-13 15:55:35] INFO (torcheeg/MainThread) \n",
      "[Train] train_loss: 1.299 train_accuracy: 0.391 \n",
      "\n"
     ]
    },
    {
     "name": "stdout",
     "output_type": "stream",
     "text": [
      "Epoch 6: 100%|███████████████████████████████████████████████████████████████| 75/75 [00:21<00:00,  3.51it/s, v_num=0, train_loss=1.260, train_accuracy=0.500]"
     ]
    },
    {
     "name": "stderr",
     "output_type": "stream",
     "text": [
      "[2024-05-13 15:55:56] INFO (torcheeg/MainThread) \n",
      "[Train] train_loss: 1.270 train_accuracy: 0.421 \n",
      "\n"
     ]
    },
    {
     "name": "stdout",
     "output_type": "stream",
     "text": [
      "Epoch 7: 100%|███████████████████████████████████████████████████████████████| 75/75 [00:21<00:00,  3.46it/s, v_num=0, train_loss=1.340, train_accuracy=0.438]"
     ]
    },
    {
     "name": "stderr",
     "output_type": "stream",
     "text": [
      "[2024-05-13 15:56:18] INFO (torcheeg/MainThread) \n",
      "[Train] train_loss: 1.245 train_accuracy: 0.441 \n",
      "\n"
     ]
    },
    {
     "name": "stdout",
     "output_type": "stream",
     "text": [
      "Epoch 8: 100%|███████████████████████████████████████████████████████████████| 75/75 [00:21<00:00,  3.49it/s, v_num=0, train_loss=1.160, train_accuracy=0.500]"
     ]
    },
    {
     "name": "stderr",
     "output_type": "stream",
     "text": [
      "[2024-05-13 15:56:39] INFO (torcheeg/MainThread) \n",
      "[Train] train_loss: 1.206 train_accuracy: 0.471 \n",
      "\n"
     ]
    },
    {
     "name": "stdout",
     "output_type": "stream",
     "text": [
      "Epoch 9: 100%|███████████████████████████████████████████████████████████████| 75/75 [00:21<00:00,  3.49it/s, v_num=0, train_loss=1.200, train_accuracy=0.500]"
     ]
    },
    {
     "name": "stderr",
     "output_type": "stream",
     "text": [
      "[2024-05-13 15:57:01] INFO (torcheeg/MainThread) \n",
      "[Train] train_loss: 1.182 train_accuracy: 0.486 \n",
      "\n",
      "`Trainer.fit` stopped: `max_epochs=10` reached.\n"
     ]
    },
    {
     "name": "stdout",
     "output_type": "stream",
     "text": [
      "Epoch 9: 100%|███████████████████████████████████████████████████████████████| 75/75 [00:21<00:00,  3.49it/s, v_num=0, train_loss=1.200, train_accuracy=0.500]\n"
     ]
    },
    {
     "name": "stderr",
     "output_type": "stream",
     "text": [
      "GPU available: False, used: False\n",
      "TPU available: False, using: 0 TPU cores\n",
      "IPU available: False, using: 0 IPUs\n",
      "HPU available: False, using: 0 HPUs\n",
      "/home/quang/yes/envs/cognitive-computing/lib/python3.10/site-packages/pytorch_lightning/trainer/connectors/data_connector.py:441: The 'test_dataloader' does not have many workers which may be a bottleneck. Consider increasing the value of the `num_workers` argument` to `num_workers=7` in the `DataLoader` to improve performance.\n"
     ]
    },
    {
     "name": "stdout",
     "output_type": "stream",
     "text": [
      "Testing DataLoader 0: 100%|█████████████████████████████████████████████████████████████████████████████████████████████████████| 7/7 [00:00<00:00,  9.85it/s]"
     ]
    },
    {
     "name": "stderr",
     "output_type": "stream",
     "text": [
      "[2024-05-13 15:57:02] INFO (torcheeg/MainThread) \n",
      "[Test] test_loss: 1.209 test_accuracy: 0.475 \n",
      "\n"
     ]
    },
    {
     "name": "stdout",
     "output_type": "stream",
     "text": [
      "Testing DataLoader 0: 100%|█████████████████████████████████████████████████████████████████████████████████████████████████████| 7/7 [00:00<00:00,  9.79it/s]\n",
      "────────────────────────────────────────────────────────────────────────────────────────────────────────────────────────\n",
      "       Test metric             DataLoader 0\n",
      "────────────────────────────────────────────────────────────────────────────────────────────────────────────────────────\n",
      "      test_accuracy         0.47453704476356506\n",
      "        test_loss           1.2085002660751343\n",
      "────────────────────────────────────────────────────────────────────────────────────────────────────────────────────────\n",
      "Fold 6 test accuracy:  0.4745\n"
     ]
    },
    {
     "name": "stderr",
     "output_type": "stream",
     "text": [
      "GPU available: False, used: False\n",
      "TPU available: False, using: 0 TPU cores\n",
      "IPU available: False, using: 0 IPUs\n",
      "HPU available: False, using: 0 HPUs\n",
      "Missing logger folder: examples_pipeline/model/7/lightning_logs\n",
      "\n",
      "  | Name          | Type             | Params\n",
      "---------------------------------------------------\n",
      "0 | model         | EEGNet           | 4.9 K \n",
      "1 | ce_fn         | CrossEntropyLoss | 0     \n",
      "2 | train_loss    | MeanMetric       | 0     \n",
      "3 | val_loss      | MeanMetric       | 0     \n",
      "4 | test_loss     | MeanMetric       | 0     \n",
      "5 | train_metrics | MetricCollection | 0     \n",
      "6 | val_metrics   | MetricCollection | 0     \n",
      "7 | test_metrics  | MetricCollection | 0     \n",
      "---------------------------------------------------\n",
      "4.9 K     Trainable params\n",
      "0         Non-trainable params\n",
      "4.9 K     Total params\n",
      "0.020     Total estimated model params size (MB)\n",
      "/home/quang/yes/envs/cognitive-computing/lib/python3.10/site-packages/pytorch_lightning/trainer/connectors/data_connector.py:441: The 'train_dataloader' does not have many workers which may be a bottleneck. Consider increasing the value of the `num_workers` argument` to `num_workers=7` in the `DataLoader` to improve performance.\n"
     ]
    },
    {
     "name": "stdout",
     "output_type": "stream",
     "text": [
      "Epoch 0: 100%|███████████████████████████████████████████████████████████████| 75/75 [00:21<00:00,  3.44it/s, v_num=0, train_loss=1.450, train_accuracy=0.375]"
     ]
    },
    {
     "name": "stderr",
     "output_type": "stream",
     "text": [
      "[2024-05-13 15:57:24] INFO (torcheeg/MainThread) \n",
      "[Train] train_loss: 1.404 train_accuracy: 0.250 \n",
      "\n"
     ]
    },
    {
     "name": "stdout",
     "output_type": "stream",
     "text": [
      "Epoch 1: 100%|███████████████████████████████████████████████████████████████| 75/75 [00:24<00:00,  3.07it/s, v_num=0, train_loss=1.420, train_accuracy=0.188]"
     ]
    },
    {
     "name": "stderr",
     "output_type": "stream",
     "text": [
      "[2024-05-13 15:57:48] INFO (torcheeg/MainThread) \n",
      "[Train] train_loss: 1.383 train_accuracy: 0.283 \n",
      "\n"
     ]
    },
    {
     "name": "stdout",
     "output_type": "stream",
     "text": [
      "Epoch 2: 100%|███████████████████████████████████████████████████████████████| 75/75 [00:26<00:00,  2.88it/s, v_num=0, train_loss=1.430, train_accuracy=0.250]"
     ]
    },
    {
     "name": "stderr",
     "output_type": "stream",
     "text": [
      "[2024-05-13 15:58:14] INFO (torcheeg/MainThread) \n",
      "[Train] train_loss: 1.361 train_accuracy: 0.318 \n",
      "\n"
     ]
    },
    {
     "name": "stdout",
     "output_type": "stream",
     "text": [
      "Epoch 3: 100%|███████████████████████████████████████████████████████████████| 75/75 [00:25<00:00,  2.90it/s, v_num=0, train_loss=1.250, train_accuracy=0.562]"
     ]
    },
    {
     "name": "stderr",
     "output_type": "stream",
     "text": [
      "[2024-05-13 15:58:40] INFO (torcheeg/MainThread) \n",
      "[Train] train_loss: 1.343 train_accuracy: 0.351 \n",
      "\n"
     ]
    },
    {
     "name": "stdout",
     "output_type": "stream",
     "text": [
      "Epoch 4: 100%|███████████████████████████████████████████████████████████████| 75/75 [00:23<00:00,  3.24it/s, v_num=0, train_loss=1.250, train_accuracy=0.500]"
     ]
    },
    {
     "name": "stderr",
     "output_type": "stream",
     "text": [
      "[2024-05-13 15:59:03] INFO (torcheeg/MainThread) \n",
      "[Train] train_loss: 1.319 train_accuracy: 0.389 \n",
      "\n"
     ]
    },
    {
     "name": "stdout",
     "output_type": "stream",
     "text": [
      "Epoch 5: 100%|███████████████████████████████████████████████████████████████| 75/75 [00:22<00:00,  3.40it/s, v_num=0, train_loss=1.210, train_accuracy=0.688]"
     ]
    },
    {
     "name": "stderr",
     "output_type": "stream",
     "text": [
      "[2024-05-13 15:59:25] INFO (torcheeg/MainThread) \n",
      "[Train] train_loss: 1.297 train_accuracy: 0.410 \n",
      "\n"
     ]
    },
    {
     "name": "stdout",
     "output_type": "stream",
     "text": [
      "Epoch 6: 100%|███████████████████████████████████████████████████████████████| 75/75 [00:22<00:00,  3.30it/s, v_num=0, train_loss=1.140, train_accuracy=0.500]"
     ]
    },
    {
     "name": "stderr",
     "output_type": "stream",
     "text": [
      "[2024-05-13 15:59:48] INFO (torcheeg/MainThread) \n",
      "[Train] train_loss: 1.273 train_accuracy: 0.440 \n",
      "\n"
     ]
    },
    {
     "name": "stdout",
     "output_type": "stream",
     "text": [
      "Epoch 7: 100%|███████████████████████████████████████████████████████████████| 75/75 [00:21<00:00,  3.42it/s, v_num=0, train_loss=1.240, train_accuracy=0.500]"
     ]
    },
    {
     "name": "stderr",
     "output_type": "stream",
     "text": [
      "[2024-05-13 16:00:10] INFO (torcheeg/MainThread) \n",
      "[Train] train_loss: 1.252 train_accuracy: 0.448 \n",
      "\n"
     ]
    },
    {
     "name": "stdout",
     "output_type": "stream",
     "text": [
      "Epoch 8: 100%|███████████████████████████████████████████████████████████████| 75/75 [00:21<00:00,  3.41it/s, v_num=0, train_loss=1.120, train_accuracy=0.688]"
     ]
    },
    {
     "name": "stderr",
     "output_type": "stream",
     "text": [
      "[2024-05-13 16:00:32] INFO (torcheeg/MainThread) \n",
      "[Train] train_loss: 1.224 train_accuracy: 0.475 \n",
      "\n"
     ]
    },
    {
     "name": "stdout",
     "output_type": "stream",
     "text": [
      "Epoch 9: 100%|███████████████████████████████████████████████████████████████| 75/75 [00:24<00:00,  3.06it/s, v_num=0, train_loss=1.150, train_accuracy=0.500]"
     ]
    },
    {
     "name": "stderr",
     "output_type": "stream",
     "text": [
      "[2024-05-13 16:00:56] INFO (torcheeg/MainThread) \n",
      "[Train] train_loss: 1.196 train_accuracy: 0.498 \n",
      "\n",
      "`Trainer.fit` stopped: `max_epochs=10` reached.\n"
     ]
    },
    {
     "name": "stdout",
     "output_type": "stream",
     "text": [
      "Epoch 9: 100%|███████████████████████████████████████████████████████████████| 75/75 [00:24<00:00,  3.06it/s, v_num=0, train_loss=1.150, train_accuracy=0.500]\n"
     ]
    },
    {
     "name": "stderr",
     "output_type": "stream",
     "text": [
      "GPU available: False, used: False\n",
      "TPU available: False, using: 0 TPU cores\n",
      "IPU available: False, using: 0 IPUs\n",
      "HPU available: False, using: 0 HPUs\n",
      "/home/quang/yes/envs/cognitive-computing/lib/python3.10/site-packages/pytorch_lightning/trainer/connectors/data_connector.py:441: The 'test_dataloader' does not have many workers which may be a bottleneck. Consider increasing the value of the `num_workers` argument` to `num_workers=7` in the `DataLoader` to improve performance.\n"
     ]
    },
    {
     "name": "stdout",
     "output_type": "stream",
     "text": [
      "Testing DataLoader 0: 100%|█████████████████████████████████████████████████████████████████████████████████████████████████████| 7/7 [00:00<00:00,  8.52it/s]"
     ]
    },
    {
     "name": "stderr",
     "output_type": "stream",
     "text": [
      "[2024-05-13 16:00:57] INFO (torcheeg/MainThread) \n",
      "[Test] test_loss: 1.203 test_accuracy: 0.512 \n",
      "\n"
     ]
    },
    {
     "name": "stdout",
     "output_type": "stream",
     "text": [
      "Testing DataLoader 0: 100%|█████████████████████████████████████████████████████████████████████████████████████████████████████| 7/7 [00:00<00:00,  8.45it/s]\n",
      "────────────────────────────────────────────────────────────────────────────────────────────────────────────────────────\n",
      "       Test metric             DataLoader 0\n",
      "────────────────────────────────────────────────────────────────────────────────────────────────────────────────────────\n",
      "      test_accuracy         0.5115740895271301\n",
      "        test_loss           1.2025870084762573\n",
      "────────────────────────────────────────────────────────────────────────────────────────────────────────────────────────\n",
      "Fold 7 test accuracy:  0.5116\n"
     ]
    },
    {
     "name": "stderr",
     "output_type": "stream",
     "text": [
      "GPU available: False, used: False\n",
      "TPU available: False, using: 0 TPU cores\n",
      "IPU available: False, using: 0 IPUs\n",
      "HPU available: False, using: 0 HPUs\n",
      "Missing logger folder: examples_pipeline/model/8/lightning_logs\n",
      "\n",
      "  | Name          | Type             | Params\n",
      "---------------------------------------------------\n",
      "0 | model         | EEGNet           | 4.9 K \n",
      "1 | ce_fn         | CrossEntropyLoss | 0     \n",
      "2 | train_loss    | MeanMetric       | 0     \n",
      "3 | val_loss      | MeanMetric       | 0     \n",
      "4 | test_loss     | MeanMetric       | 0     \n",
      "5 | train_metrics | MetricCollection | 0     \n",
      "6 | val_metrics   | MetricCollection | 0     \n",
      "7 | test_metrics  | MetricCollection | 0     \n",
      "---------------------------------------------------\n",
      "4.9 K     Trainable params\n",
      "0         Non-trainable params\n",
      "4.9 K     Total params\n",
      "0.020     Total estimated model params size (MB)\n",
      "/home/quang/yes/envs/cognitive-computing/lib/python3.10/site-packages/pytorch_lightning/trainer/connectors/data_connector.py:441: The 'train_dataloader' does not have many workers which may be a bottleneck. Consider increasing the value of the `num_workers` argument` to `num_workers=7` in the `DataLoader` to improve performance.\n"
     ]
    },
    {
     "name": "stdout",
     "output_type": "stream",
     "text": [
      "Epoch 0: 100%|███████████████████████████████████████████████████████████████| 75/75 [00:24<00:00,  3.10it/s, v_num=0, train_loss=1.290, train_accuracy=0.438]"
     ]
    },
    {
     "name": "stderr",
     "output_type": "stream",
     "text": [
      "[2024-05-13 16:01:22] INFO (torcheeg/MainThread) \n",
      "[Train] train_loss: 1.401 train_accuracy: 0.267 \n",
      "\n"
     ]
    },
    {
     "name": "stdout",
     "output_type": "stream",
     "text": [
      "Epoch 1: 100%|███████████████████████████████████████████████████████████████| 75/75 [00:27<00:00,  2.75it/s, v_num=0, train_loss=1.440, train_accuracy=0.250]"
     ]
    },
    {
     "name": "stderr",
     "output_type": "stream",
     "text": [
      "[2024-05-13 16:01:49] INFO (torcheeg/MainThread) \n",
      "[Train] train_loss: 1.372 train_accuracy: 0.301 \n",
      "\n"
     ]
    },
    {
     "name": "stdout",
     "output_type": "stream",
     "text": [
      "Epoch 2: 100%|███████████████████████████████████████████████████████████████| 75/75 [00:21<00:00,  3.44it/s, v_num=0, train_loss=1.280, train_accuracy=0.438]"
     ]
    },
    {
     "name": "stderr",
     "output_type": "stream",
     "text": [
      "[2024-05-13 16:02:11] INFO (torcheeg/MainThread) \n",
      "[Train] train_loss: 1.354 train_accuracy: 0.330 \n",
      "\n"
     ]
    },
    {
     "name": "stdout",
     "output_type": "stream",
     "text": [
      "Epoch 3: 100%|███████████████████████████████████████████████████████████████| 75/75 [00:21<00:00,  3.47it/s, v_num=0, train_loss=1.210, train_accuracy=0.562]"
     ]
    },
    {
     "name": "stderr",
     "output_type": "stream",
     "text": [
      "[2024-05-13 16:02:32] INFO (torcheeg/MainThread) \n",
      "[Train] train_loss: 1.332 train_accuracy: 0.362 \n",
      "\n"
     ]
    },
    {
     "name": "stdout",
     "output_type": "stream",
     "text": [
      "Epoch 4: 100%|███████████████████████████████████████████████████████████████| 75/75 [00:21<00:00,  3.47it/s, v_num=0, train_loss=1.260, train_accuracy=0.375]"
     ]
    },
    {
     "name": "stderr",
     "output_type": "stream",
     "text": [
      "[2024-05-13 16:02:54] INFO (torcheeg/MainThread) \n",
      "[Train] train_loss: 1.312 train_accuracy: 0.391 \n",
      "\n"
     ]
    },
    {
     "name": "stdout",
     "output_type": "stream",
     "text": [
      "Epoch 5: 100%|███████████████████████████████████████████████████████████████| 75/75 [00:22<00:00,  3.40it/s, v_num=0, train_loss=1.270, train_accuracy=0.375]"
     ]
    },
    {
     "name": "stderr",
     "output_type": "stream",
     "text": [
      "[2024-05-13 16:03:16] INFO (torcheeg/MainThread) \n",
      "[Train] train_loss: 1.296 train_accuracy: 0.393 \n",
      "\n"
     ]
    },
    {
     "name": "stdout",
     "output_type": "stream",
     "text": [
      "Epoch 6: 100%|███████████████████████████████████████████████████████████████| 75/75 [00:23<00:00,  3.14it/s, v_num=0, train_loss=1.410, train_accuracy=0.312]"
     ]
    },
    {
     "name": "stderr",
     "output_type": "stream",
     "text": [
      "[2024-05-13 16:03:40] INFO (torcheeg/MainThread) \n",
      "[Train] train_loss: 1.275 train_accuracy: 0.416 \n",
      "\n"
     ]
    },
    {
     "name": "stdout",
     "output_type": "stream",
     "text": [
      "Epoch 7: 100%|███████████████████████████████████████████████████████████████| 75/75 [00:23<00:00,  3.18it/s, v_num=0, train_loss=1.240, train_accuracy=0.375]"
     ]
    },
    {
     "name": "stderr",
     "output_type": "stream",
     "text": [
      "[2024-05-13 16:04:04] INFO (torcheeg/MainThread) \n",
      "[Train] train_loss: 1.256 train_accuracy: 0.436 \n",
      "\n"
     ]
    },
    {
     "name": "stdout",
     "output_type": "stream",
     "text": [
      "Epoch 8: 100%|███████████████████████████████████████████████████████████████| 75/75 [00:22<00:00,  3.30it/s, v_num=0, train_loss=1.120, train_accuracy=0.562]"
     ]
    },
    {
     "name": "stderr",
     "output_type": "stream",
     "text": [
      "[2024-05-13 16:04:26] INFO (torcheeg/MainThread) \n",
      "[Train] train_loss: 1.229 train_accuracy: 0.453 \n",
      "\n"
     ]
    },
    {
     "name": "stdout",
     "output_type": "stream",
     "text": [
      "Epoch 9: 100%|███████████████████████████████████████████████████████████████| 75/75 [00:21<00:00,  3.42it/s, v_num=0, train_loss=1.200, train_accuracy=0.312]"
     ]
    },
    {
     "name": "stderr",
     "output_type": "stream",
     "text": [
      "[2024-05-13 16:04:48] INFO (torcheeg/MainThread) \n",
      "[Train] train_loss: 1.208 train_accuracy: 0.479 \n",
      "\n",
      "`Trainer.fit` stopped: `max_epochs=10` reached.\n"
     ]
    },
    {
     "name": "stdout",
     "output_type": "stream",
     "text": [
      "Epoch 9: 100%|███████████████████████████████████████████████████████████████| 75/75 [00:21<00:00,  3.42it/s, v_num=0, train_loss=1.200, train_accuracy=0.312]\n"
     ]
    },
    {
     "name": "stderr",
     "output_type": "stream",
     "text": [
      "GPU available: False, used: False\n",
      "TPU available: False, using: 0 TPU cores\n",
      "IPU available: False, using: 0 IPUs\n",
      "HPU available: False, using: 0 HPUs\n",
      "/home/quang/yes/envs/cognitive-computing/lib/python3.10/site-packages/pytorch_lightning/trainer/connectors/data_connector.py:441: The 'test_dataloader' does not have many workers which may be a bottleneck. Consider increasing the value of the `num_workers` argument` to `num_workers=7` in the `DataLoader` to improve performance.\n"
     ]
    },
    {
     "name": "stdout",
     "output_type": "stream",
     "text": [
      "Testing DataLoader 0: 100%|█████████████████████████████████████████████████████████████████████████████████████████████████████| 7/7 [00:00<00:00,  9.87it/s]"
     ]
    },
    {
     "name": "stderr",
     "output_type": "stream",
     "text": [
      "[2024-05-13 16:04:49] INFO (torcheeg/MainThread) \n",
      "[Test] test_loss: 1.247 test_accuracy: 0.447 \n",
      "\n"
     ]
    },
    {
     "name": "stdout",
     "output_type": "stream",
     "text": [
      "Testing DataLoader 0: 100%|█████████████████████████████████████████████████████████████████████████████████████████████████████| 7/7 [00:00<00:00,  9.81it/s]\n",
      "────────────────────────────────────────────────────────────────────────────────────────────────────────────────────────\n",
      "       Test metric             DataLoader 0\n",
      "────────────────────────────────────────────────────────────────────────────────────────────────────────────────────────\n",
      "      test_accuracy         0.44675925374031067\n",
      "        test_loss            1.24686598777771\n",
      "────────────────────────────────────────────────────────────────────────────────────────────────────────────────────────\n",
      "Fold 8 test accuracy:  0.4468\n"
     ]
    },
    {
     "name": "stderr",
     "output_type": "stream",
     "text": [
      "GPU available: False, used: False\n",
      "TPU available: False, using: 0 TPU cores\n",
      "IPU available: False, using: 0 IPUs\n",
      "HPU available: False, using: 0 HPUs\n",
      "Missing logger folder: examples_pipeline/model/9/lightning_logs\n",
      "\n",
      "  | Name          | Type             | Params\n",
      "---------------------------------------------------\n",
      "0 | model         | EEGNet           | 4.9 K \n",
      "1 | ce_fn         | CrossEntropyLoss | 0     \n",
      "2 | train_loss    | MeanMetric       | 0     \n",
      "3 | val_loss      | MeanMetric       | 0     \n",
      "4 | test_loss     | MeanMetric       | 0     \n",
      "5 | train_metrics | MetricCollection | 0     \n",
      "6 | val_metrics   | MetricCollection | 0     \n",
      "7 | test_metrics  | MetricCollection | 0     \n",
      "---------------------------------------------------\n",
      "4.9 K     Trainable params\n",
      "0         Non-trainable params\n",
      "4.9 K     Total params\n",
      "0.020     Total estimated model params size (MB)\n",
      "/home/quang/yes/envs/cognitive-computing/lib/python3.10/site-packages/pytorch_lightning/trainer/connectors/data_connector.py:441: The 'train_dataloader' does not have many workers which may be a bottleneck. Consider increasing the value of the `num_workers` argument` to `num_workers=7` in the `DataLoader` to improve performance.\n"
     ]
    },
    {
     "name": "stdout",
     "output_type": "stream",
     "text": [
      "Epoch 0: 100%|███████████████████████████████████████████████████████████████| 75/75 [00:25<00:00,  2.97it/s, v_num=0, train_loss=1.380, train_accuracy=0.188]"
     ]
    },
    {
     "name": "stderr",
     "output_type": "stream",
     "text": [
      "[2024-05-13 16:05:14] INFO (torcheeg/MainThread) \n",
      "[Train] train_loss: 1.413 train_accuracy: 0.263 \n",
      "\n"
     ]
    },
    {
     "name": "stdout",
     "output_type": "stream",
     "text": [
      "Epoch 1: 100%|███████████████████████████████████████████████████████████████| 75/75 [00:23<00:00,  3.21it/s, v_num=0, train_loss=1.400, train_accuracy=0.500]"
     ]
    },
    {
     "name": "stderr",
     "output_type": "stream",
     "text": [
      "[2024-05-13 16:05:38] INFO (torcheeg/MainThread) \n",
      "[Train] train_loss: 1.385 train_accuracy: 0.285 \n",
      "\n"
     ]
    },
    {
     "name": "stdout",
     "output_type": "stream",
     "text": [
      "Epoch 2: 100%|███████████████████████████████████████████████████████████████| 75/75 [00:22<00:00,  3.36it/s, v_num=0, train_loss=1.410, train_accuracy=0.125]"
     ]
    },
    {
     "name": "stderr",
     "output_type": "stream",
     "text": [
      "[2024-05-13 16:06:00] INFO (torcheeg/MainThread) \n",
      "[Train] train_loss: 1.372 train_accuracy: 0.307 \n",
      "\n"
     ]
    },
    {
     "name": "stdout",
     "output_type": "stream",
     "text": [
      "Epoch 3: 100%|███████████████████████████████████████████████████████████████| 75/75 [00:22<00:00,  3.38it/s, v_num=0, train_loss=1.230, train_accuracy=0.562]"
     ]
    },
    {
     "name": "stderr",
     "output_type": "stream",
     "text": [
      "[2024-05-13 16:06:22] INFO (torcheeg/MainThread) \n",
      "[Train] train_loss: 1.348 train_accuracy: 0.347 \n",
      "\n"
     ]
    },
    {
     "name": "stdout",
     "output_type": "stream",
     "text": [
      "Epoch 4: 100%|███████████████████████████████████████████████████████████████| 75/75 [00:22<00:00,  3.33it/s, v_num=0, train_loss=1.360, train_accuracy=0.375]"
     ]
    },
    {
     "name": "stderr",
     "output_type": "stream",
     "text": [
      "[2024-05-13 16:06:45] INFO (torcheeg/MainThread) \n",
      "[Train] train_loss: 1.326 train_accuracy: 0.378 \n",
      "\n"
     ]
    },
    {
     "name": "stdout",
     "output_type": "stream",
     "text": [
      "Epoch 5: 100%|███████████████████████████████████████████████████████████████| 75/75 [00:25<00:00,  2.93it/s, v_num=0, train_loss=1.260, train_accuracy=0.438]"
     ]
    },
    {
     "name": "stderr",
     "output_type": "stream",
     "text": [
      "[2024-05-13 16:07:10] INFO (torcheeg/MainThread) \n",
      "[Train] train_loss: 1.298 train_accuracy: 0.393 \n",
      "\n"
     ]
    },
    {
     "name": "stdout",
     "output_type": "stream",
     "text": [
      "Epoch 6: 100%|███████████████████████████████████████████████████████████████| 75/75 [00:23<00:00,  3.20it/s, v_num=0, train_loss=1.320, train_accuracy=0.375]"
     ]
    },
    {
     "name": "stderr",
     "output_type": "stream",
     "text": [
      "[2024-05-13 16:07:34] INFO (torcheeg/MainThread) \n",
      "[Train] train_loss: 1.269 train_accuracy: 0.423 \n",
      "\n"
     ]
    },
    {
     "name": "stdout",
     "output_type": "stream",
     "text": [
      "Epoch 7: 100%|███████████████████████████████████████████████████████████████| 75/75 [00:25<00:00,  2.93it/s, v_num=0, train_loss=1.210, train_accuracy=0.375]"
     ]
    },
    {
     "name": "stderr",
     "output_type": "stream",
     "text": [
      "[2024-05-13 16:07:59] INFO (torcheeg/MainThread) \n",
      "[Train] train_loss: 1.246 train_accuracy: 0.434 \n",
      "\n"
     ]
    },
    {
     "name": "stdout",
     "output_type": "stream",
     "text": [
      "Epoch 8: 100%|███████████████████████████████████████████████████████████████| 75/75 [00:35<00:00,  2.09it/s, v_num=0, train_loss=1.020, train_accuracy=0.625]"
     ]
    },
    {
     "name": "stderr",
     "output_type": "stream",
     "text": [
      "[2024-05-13 16:08:35] INFO (torcheeg/MainThread) \n",
      "[Train] train_loss: 1.220 train_accuracy: 0.454 \n",
      "\n"
     ]
    },
    {
     "name": "stdout",
     "output_type": "stream",
     "text": [
      "Epoch 9: 100%|███████████████████████████████████████████████████████████████| 75/75 [00:29<00:00,  2.51it/s, v_num=0, train_loss=1.250, train_accuracy=0.438]"
     ]
    },
    {
     "name": "stderr",
     "output_type": "stream",
     "text": [
      "[2024-05-13 16:09:05] INFO (torcheeg/MainThread) \n",
      "[Train] train_loss: 1.195 train_accuracy: 0.478 \n",
      "\n",
      "`Trainer.fit` stopped: `max_epochs=10` reached.\n"
     ]
    },
    {
     "name": "stdout",
     "output_type": "stream",
     "text": [
      "Epoch 9: 100%|███████████████████████████████████████████████████████████████| 75/75 [00:29<00:00,  2.51it/s, v_num=0, train_loss=1.250, train_accuracy=0.438]\n"
     ]
    },
    {
     "name": "stderr",
     "output_type": "stream",
     "text": [
      "GPU available: False, used: False\n",
      "TPU available: False, using: 0 TPU cores\n",
      "IPU available: False, using: 0 IPUs\n",
      "HPU available: False, using: 0 HPUs\n",
      "/home/quang/yes/envs/cognitive-computing/lib/python3.10/site-packages/pytorch_lightning/trainer/connectors/data_connector.py:441: The 'test_dataloader' does not have many workers which may be a bottleneck. Consider increasing the value of the `num_workers` argument` to `num_workers=7` in the `DataLoader` to improve performance.\n"
     ]
    },
    {
     "name": "stdout",
     "output_type": "stream",
     "text": [
      "Testing DataLoader 0: 100%|█████████████████████████████████████████████████████████████████████████████████████████████████████| 7/7 [00:01<00:00,  5.89it/s]"
     ]
    },
    {
     "name": "stderr",
     "output_type": "stream",
     "text": [
      "[2024-05-13 16:09:06] INFO (torcheeg/MainThread) \n",
      "[Test] test_loss: 1.190 test_accuracy: 0.477 \n",
      "\n"
     ]
    },
    {
     "name": "stdout",
     "output_type": "stream",
     "text": [
      "Testing DataLoader 0: 100%|█████████████████████████████████████████████████████████████████████████████████████████████████████| 7/7 [00:01<00:00,  5.85it/s]\n",
      "────────────────────────────────────────────────────────────────────────────────────────────────────────────────────────\n",
      "       Test metric             DataLoader 0\n",
      "────────────────────────────────────────────────────────────────────────────────────────────────────────────────────────\n",
      "      test_accuracy         0.47685185074806213\n",
      "        test_loss            1.189505934715271\n",
      "────────────────────────────────────────────────────────────────────────────────────────────────────────────────────────\n",
      "Fold 9 test accuracy:  0.4769\n"
     ]
    }
   ],
   "source": [
    "DEVICE = 'gpu' if torch.cuda.is_available() else 'cpu'\n",
    "\n",
    "for i, (train_dataset, val_dataset) in enumerate(k_fold.split(dataset)):\n",
    "    train_loader = DataLoader(\n",
    "        dataset=train_dataset,\n",
    "        batch_size=64,\n",
    "        shuffle=True,\n",
    "        num_workers=4\n",
    "    )\n",
    "    val_loader = DataLoader(\n",
    "        dataset=val_dataset,\n",
    "        batch_size=64,\n",
    "        shuffle=False,\n",
    "        num_workers=4\n",
    "    )\n",
    "\n",
    "    model = EEGNet(\n",
    "        chunk_size=7*250,\n",
    "        num_electrodes=22,\n",
    "        num_classes=4,\n",
    "    )\n",
    "\n",
    "    trainer = ClassifierTrainer(\n",
    "        model=model,\n",
    "        num_classes=4,\n",
    "        lr=1e-4,\n",
    "        weight_decay=1e-4,\n",
    "        accelerator=DEVICE\n",
    "    )\n",
    "\n",
    "    trainer.fit(\n",
    "        train_loader,\n",
    "        val_loader, \n",
    "        max_epochs=10,\n",
    "        default_root_dir=f'./examples_pipeline/eegnet_model/{i}',\n",
    "        callbacks=[pl.callbacks.ModelCheckpoint(save_last=True)],\n",
    "        enable_progress_bar=True,\n",
    "        enable_model_summary=True,\n",
    "        limit_val_batches=0.0\n",
    "    )\n",
    "\n",
    "    score = trainer.test(\n",
    "        val_loader,\n",
    "        enable_progress_bar=True,\n",
    "        enable_model_summary=True\n",
    "    )[0]\n",
    "    print(f\"Fold {i} test accuracy: {score['test_accuracy']: .4f}\")"
   ]
  },
  {
   "cell_type": "code",
   "execution_count": null,
   "id": "6b195ac2-1732-45f8-91b3-536e44021282",
   "metadata": {
    "editable": true,
    "slideshow": {
     "slide_type": ""
    },
    "tags": []
   },
   "outputs": [],
   "source": []
  }
 ],
 "metadata": {
  "kernelspec": {
   "display_name": "Python 3 (ipykernel)",
   "language": "python",
   "name": "python3"
  },
  "language_info": {
   "codemirror_mode": {
    "name": "ipython",
    "version": 3
   },
   "file_extension": ".py",
   "mimetype": "text/x-python",
   "name": "python",
   "nbconvert_exporter": "python",
   "pygments_lexer": "ipython3",
   "version": "3.10.14"
  }
 },
 "nbformat": 4,
 "nbformat_minor": 5
}
