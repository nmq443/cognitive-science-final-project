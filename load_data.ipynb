{
 "cells": [
  {
   "cell_type": "code",
   "execution_count": 1,
   "id": "a00116fd-2c21-4fb2-8afc-e501551b2479",
   "metadata": {},
   "outputs": [],
   "source": [
    "import mne"
   ]
  },
  {
   "cell_type": "code",
   "execution_count": 29,
   "id": "334824ab-299d-4936-8c5c-6c47f0c9aec2",
   "metadata": {},
   "outputs": [],
   "source": [
    "def load_single_subject_data(path: str):\n",
    "    \"\"\"\n",
    "    Load raw gdf file data\n",
    "    Parameters:\n",
    "        path (str): path to .gdf file\n",
    "\n",
    "    Returns:\n",
    "        features (numpy_ndarray): features of subject\n",
    "        labels (numpy_ndarray): labels of subject\n",
    "    \"\"\"\n",
    "    raw = mne.io.read_raw_gdf(\n",
    "        input_fname=path,\n",
    "        eog=['EOG-left', 'EOG-central', 'EOG-right'],\n",
    "        preload=True,\n",
    "        verbose=None\n",
    "    )\n",
    "    raw.drop_channels(['EOG-left', 'EOG-central', 'EOG-right'])\n",
    "    raw.set_eeg_reference()\n",
    "    events = mne.events_from_annotations(\n",
    "        raw=raw,\n",
    "        verbose=None\n",
    "    )\n",
    "    event_id = {\n",
    "        'left': 7, \n",
    "        'right': 8, \n",
    "        'foot': 9, \n",
    "        'tongue': 10\n",
    "    }\n",
    "    epochs = mne.Epochs(\n",
    "        raw=raw,\n",
    "        events=events[0],\n",
    "        event_id=event_id,\n",
    "        on_missing='warn',\n",
    "        verbose=None\n",
    "    )\n",
    "    labels = epochs.events[:, -1]\n",
    "    features = epochs.get_data()\n",
    "    return features, labels"
   ]
  },
  {
   "cell_type": "code",
   "execution_count": 30,
   "id": "d505a99b-8885-4647-8c91-baeea20b9809",
   "metadata": {},
   "outputs": [],
   "source": [
    "def load_data(train=True):\n",
    "    \"\"\"\n",
    "    Load all subjects' datas\n",
    "    Parameters:\n",
    "        train (bool): True if subject is a training subject, False if subject is a evaluating subject\n",
    "\n",
    "    Return:\n",
    "        features (list): data features\n",
    "        labels (list): labels (4 classes)\n",
    "    \"\"\"\n",
    "    features = []\n",
    "    labels = []\n",
    "    if train == True:\n",
    "        print('Training')\n",
    "        for i in range(1, 10):\n",
    "            data_path = f'BCI2a/A0{i}T.gdf'\n",
    "            feature, label = load_single_subject_data(data_path)\n",
    "            features.append(feature)\n",
    "            labels.append(label)\n",
    "    else:\n",
    "        print('Evaluation')\n",
    "        for i in range(1, 10):\n",
    "            data_path = f'BCI2a/A0{i}E.gdf'\n",
    "            feature, label = load_single_subject_data(data_path)\n",
    "            features.append(feature)\n",
    "            labels.append(label)\n",
    "    return features, labels "
   ]
  },
  {
   "cell_type": "code",
   "execution_count": 20,
   "id": "dcaa20a5-0cb9-4482-a1eb-1974f840df24",
   "metadata": {},
   "outputs": [
    {
     "name": "stdout",
     "output_type": "stream",
     "text": [
      "Evaluation\n",
      "Extracting EDF parameters from /home/quang/Study/Cognitive-Computing/cognitive-science-final-project/BCI2a/A01E.gdf...\n",
      "GDF file detected\n",
      "Setting channel info structure...\n",
      "Could not determine channel type of the following channels, they will be set as EEG:\n",
      "EEG-Fz, EEG, EEG, EEG, EEG, EEG, EEG, EEG-C3, EEG, EEG-Cz, EEG, EEG-C4, EEG, EEG, EEG, EEG, EEG, EEG, EEG, EEG-Pz, EEG, EEG\n",
      "Creating raw.info structure...\n",
      "Reading 0 ... 686999  =      0.000 ...  2747.996 secs...\n"
     ]
    },
    {
     "name": "stderr",
     "output_type": "stream",
     "text": [
      "/home/quang/miniconda3/envs/cognitive-computing-env/lib/python3.12/contextlib.py:144: RuntimeWarning: Channel names are not unique, found duplicates for: {'EEG'}. Applying running numbers for duplicates.\n",
      "  next(self.gen)\n"
     ]
    },
    {
     "name": "stdout",
     "output_type": "stream",
     "text": [
      "EEG channel type selected for re-referencing\n",
      "Applying average reference.\n",
      "Applying a custom ('EEG',) reference.\n",
      "Used Annotations descriptions: ['1023', '1072', '276', '277', '32766', '768', '783']\n",
      "Not setting metadata\n",
      "288 matching events found\n",
      "Setting baseline interval to [-0.2, 0.0] s\n",
      "Applying baseline correction (mode: mean)\n",
      "0 projection items activated\n",
      "Using data from preloaded Raw for 288 events and 176 original time points ...\n",
      "0 bad epochs dropped\n",
      "Extracting EDF parameters from /home/quang/Study/Cognitive-Computing/cognitive-science-final-project/BCI2a/A02E.gdf...\n",
      "GDF file detected\n",
      "Setting channel info structure...\n",
      "Could not determine channel type of the following channels, they will be set as EEG:\n",
      "EEG-Fz, EEG, EEG, EEG, EEG, EEG, EEG, EEG-C3, EEG, EEG-Cz, EEG, EEG-C4, EEG, EEG, EEG, EEG, EEG, EEG, EEG, EEG-Pz, EEG, EEG\n",
      "Creating raw.info structure...\n",
      "Reading 0 ... 662665  =      0.000 ...  2650.660 secs...\n"
     ]
    },
    {
     "name": "stderr",
     "output_type": "stream",
     "text": [
      "/tmp/ipykernel_21363/2534373982.py:29: RuntimeWarning: No matching events found for right (event id 8)\n",
      "  epochs = mne.Epochs(\n",
      "/tmp/ipykernel_21363/2534373982.py:29: RuntimeWarning: No matching events found for foot (event id 9)\n",
      "  epochs = mne.Epochs(\n",
      "/tmp/ipykernel_21363/2534373982.py:29: RuntimeWarning: No matching events found for tongue (event id 10)\n",
      "  epochs = mne.Epochs(\n",
      "/home/quang/miniconda3/envs/cognitive-computing-env/lib/python3.12/contextlib.py:144: RuntimeWarning: Channel names are not unique, found duplicates for: {'EEG'}. Applying running numbers for duplicates.\n",
      "  next(self.gen)\n"
     ]
    },
    {
     "name": "stdout",
     "output_type": "stream",
     "text": [
      "EEG channel type selected for re-referencing\n",
      "Applying average reference.\n",
      "Applying a custom ('EEG',) reference.\n",
      "Used Annotations descriptions: ['1023', '1072', '276', '277', '32766', '768', '783']\n",
      "Not setting metadata\n",
      "288 matching events found\n",
      "Setting baseline interval to [-0.2, 0.0] s\n",
      "Applying baseline correction (mode: mean)\n",
      "0 projection items activated\n",
      "Using data from preloaded Raw for 288 events and 176 original time points ...\n",
      "0 bad epochs dropped\n",
      "Extracting EDF parameters from /home/quang/Study/Cognitive-Computing/cognitive-science-final-project/BCI2a/A03E.gdf...\n",
      "GDF file detected\n",
      "Setting channel info structure...\n",
      "Could not determine channel type of the following channels, they will be set as EEG:\n",
      "EEG-Fz, EEG, EEG, EEG, EEG, EEG, EEG, EEG-C3, EEG, EEG-Cz, EEG, EEG-C4, EEG, EEG, EEG, EEG, EEG, EEG, EEG, EEG-Pz, EEG, EEG\n",
      "Creating raw.info structure...\n",
      "Reading 0 ... 648774  =      0.000 ...  2595.096 secs...\n"
     ]
    },
    {
     "name": "stderr",
     "output_type": "stream",
     "text": [
      "/tmp/ipykernel_21363/2534373982.py:29: RuntimeWarning: No matching events found for right (event id 8)\n",
      "  epochs = mne.Epochs(\n",
      "/tmp/ipykernel_21363/2534373982.py:29: RuntimeWarning: No matching events found for foot (event id 9)\n",
      "  epochs = mne.Epochs(\n",
      "/tmp/ipykernel_21363/2534373982.py:29: RuntimeWarning: No matching events found for tongue (event id 10)\n",
      "  epochs = mne.Epochs(\n",
      "/home/quang/miniconda3/envs/cognitive-computing-env/lib/python3.12/contextlib.py:144: RuntimeWarning: Channel names are not unique, found duplicates for: {'EEG'}. Applying running numbers for duplicates.\n",
      "  next(self.gen)\n"
     ]
    },
    {
     "name": "stdout",
     "output_type": "stream",
     "text": [
      "EEG channel type selected for re-referencing\n",
      "Applying average reference.\n",
      "Applying a custom ('EEG',) reference.\n",
      "Used Annotations descriptions: ['1023', '1072', '276', '277', '32766', '768', '783']\n",
      "Not setting metadata\n",
      "288 matching events found\n",
      "Setting baseline interval to [-0.2, 0.0] s\n",
      "Applying baseline correction (mode: mean)\n",
      "0 projection items activated\n",
      "Using data from preloaded Raw for 288 events and 176 original time points ...\n",
      "0 bad epochs dropped\n",
      "Extracting EDF parameters from /home/quang/Study/Cognitive-Computing/cognitive-science-final-project/BCI2a/A04E.gdf...\n",
      "GDF file detected\n",
      "Setting channel info structure...\n",
      "Could not determine channel type of the following channels, they will be set as EEG:\n",
      "EEG-Fz, EEG, EEG, EEG, EEG, EEG, EEG, EEG-C3, EEG, EEG-Cz, EEG, EEG-C4, EEG, EEG, EEG, EEG, EEG, EEG, EEG, EEG-Pz, EEG, EEG\n",
      "Creating raw.info structure...\n",
      "Reading 0 ... 660046  =      0.000 ...  2640.184 secs...\n"
     ]
    },
    {
     "name": "stderr",
     "output_type": "stream",
     "text": [
      "/tmp/ipykernel_21363/2534373982.py:29: RuntimeWarning: No matching events found for right (event id 8)\n",
      "  epochs = mne.Epochs(\n",
      "/tmp/ipykernel_21363/2534373982.py:29: RuntimeWarning: No matching events found for foot (event id 9)\n",
      "  epochs = mne.Epochs(\n",
      "/tmp/ipykernel_21363/2534373982.py:29: RuntimeWarning: No matching events found for tongue (event id 10)\n",
      "  epochs = mne.Epochs(\n",
      "/home/quang/miniconda3/envs/cognitive-computing-env/lib/python3.12/contextlib.py:144: RuntimeWarning: Channel names are not unique, found duplicates for: {'EEG'}. Applying running numbers for duplicates.\n",
      "  next(self.gen)\n"
     ]
    },
    {
     "name": "stdout",
     "output_type": "stream",
     "text": [
      "EEG channel type selected for re-referencing\n",
      "Applying average reference.\n",
      "Applying a custom ('EEG',) reference.\n",
      "Used Annotations descriptions: ['1023', '1072', '276', '277', '32766', '768', '783']\n",
      "Not setting metadata\n",
      "288 matching events found\n",
      "Setting baseline interval to [-0.2, 0.0] s\n",
      "Applying baseline correction (mode: mean)\n",
      "0 projection items activated\n",
      "Using data from preloaded Raw for 288 events and 176 original time points ...\n",
      "0 bad epochs dropped\n",
      "Extracting EDF parameters from /home/quang/Study/Cognitive-Computing/cognitive-science-final-project/BCI2a/A05E.gdf...\n",
      "GDF file detected\n",
      "Setting channel info structure...\n",
      "Could not determine channel type of the following channels, they will be set as EEG:\n",
      "EEG-Fz, EEG, EEG, EEG, EEG, EEG, EEG, EEG-C3, EEG, EEG-Cz, EEG, EEG-C4, EEG, EEG, EEG, EEG, EEG, EEG, EEG, EEG-Pz, EEG, EEG\n",
      "Creating raw.info structure...\n",
      "Reading 0 ... 679862  =      0.000 ...  2719.448 secs...\n"
     ]
    },
    {
     "name": "stderr",
     "output_type": "stream",
     "text": [
      "/tmp/ipykernel_21363/2534373982.py:29: RuntimeWarning: No matching events found for right (event id 8)\n",
      "  epochs = mne.Epochs(\n",
      "/tmp/ipykernel_21363/2534373982.py:29: RuntimeWarning: No matching events found for foot (event id 9)\n",
      "  epochs = mne.Epochs(\n",
      "/tmp/ipykernel_21363/2534373982.py:29: RuntimeWarning: No matching events found for tongue (event id 10)\n",
      "  epochs = mne.Epochs(\n",
      "/home/quang/miniconda3/envs/cognitive-computing-env/lib/python3.12/contextlib.py:144: RuntimeWarning: Channel names are not unique, found duplicates for: {'EEG'}. Applying running numbers for duplicates.\n",
      "  next(self.gen)\n"
     ]
    },
    {
     "name": "stdout",
     "output_type": "stream",
     "text": [
      "EEG channel type selected for re-referencing\n",
      "Applying average reference.\n",
      "Applying a custom ('EEG',) reference.\n",
      "Used Annotations descriptions: ['1023', '1072', '276', '277', '32766', '768', '783']\n",
      "Not setting metadata\n",
      "288 matching events found\n",
      "Setting baseline interval to [-0.2, 0.0] s\n",
      "Applying baseline correction (mode: mean)\n",
      "0 projection items activated\n",
      "Using data from preloaded Raw for 288 events and 176 original time points ...\n",
      "0 bad epochs dropped\n",
      "Extracting EDF parameters from /home/quang/Study/Cognitive-Computing/cognitive-science-final-project/BCI2a/A06E.gdf...\n",
      "GDF file detected\n",
      "Setting channel info structure...\n",
      "Could not determine channel type of the following channels, they will be set as EEG:\n",
      "EEG-Fz, EEG, EEG, EEG, EEG, EEG, EEG, EEG-C3, EEG, EEG-Cz, EEG, EEG-C4, EEG, EEG, EEG, EEG, EEG, EEG, EEG, EEG-Pz, EEG, EEG\n",
      "Creating raw.info structure...\n",
      "Reading 0 ... 666372  =      0.000 ...  2665.488 secs...\n"
     ]
    },
    {
     "name": "stderr",
     "output_type": "stream",
     "text": [
      "/tmp/ipykernel_21363/2534373982.py:29: RuntimeWarning: No matching events found for right (event id 8)\n",
      "  epochs = mne.Epochs(\n",
      "/tmp/ipykernel_21363/2534373982.py:29: RuntimeWarning: No matching events found for foot (event id 9)\n",
      "  epochs = mne.Epochs(\n",
      "/tmp/ipykernel_21363/2534373982.py:29: RuntimeWarning: No matching events found for tongue (event id 10)\n",
      "  epochs = mne.Epochs(\n",
      "/home/quang/miniconda3/envs/cognitive-computing-env/lib/python3.12/contextlib.py:144: RuntimeWarning: Channel names are not unique, found duplicates for: {'EEG'}. Applying running numbers for duplicates.\n",
      "  next(self.gen)\n"
     ]
    },
    {
     "name": "stdout",
     "output_type": "stream",
     "text": [
      "EEG channel type selected for re-referencing\n",
      "Applying average reference.\n",
      "Applying a custom ('EEG',) reference.\n",
      "Used Annotations descriptions: ['1023', '1072', '276', '277', '32766', '768', '783']\n",
      "Not setting metadata\n",
      "288 matching events found\n",
      "Setting baseline interval to [-0.2, 0.0] s\n",
      "Applying baseline correction (mode: mean)\n",
      "0 projection items activated\n",
      "Using data from preloaded Raw for 288 events and 176 original time points ...\n",
      "0 bad epochs dropped\n",
      "Extracting EDF parameters from /home/quang/Study/Cognitive-Computing/cognitive-science-final-project/BCI2a/A07E.gdf...\n",
      "GDF file detected\n",
      "Setting channel info structure...\n",
      "Could not determine channel type of the following channels, they will be set as EEG:\n",
      "EEG-Fz, EEG, EEG, EEG, EEG, EEG, EEG, EEG-C3, EEG, EEG-Cz, EEG, EEG-C4, EEG, EEG, EEG, EEG, EEG, EEG, EEG, EEG-Pz, EEG, EEG\n",
      "Creating raw.info structure...\n",
      "Reading 0 ... 673134  =      0.000 ...  2692.536 secs...\n"
     ]
    },
    {
     "name": "stderr",
     "output_type": "stream",
     "text": [
      "/tmp/ipykernel_21363/2534373982.py:29: RuntimeWarning: No matching events found for right (event id 8)\n",
      "  epochs = mne.Epochs(\n",
      "/tmp/ipykernel_21363/2534373982.py:29: RuntimeWarning: No matching events found for foot (event id 9)\n",
      "  epochs = mne.Epochs(\n",
      "/tmp/ipykernel_21363/2534373982.py:29: RuntimeWarning: No matching events found for tongue (event id 10)\n",
      "  epochs = mne.Epochs(\n",
      "/home/quang/miniconda3/envs/cognitive-computing-env/lib/python3.12/contextlib.py:144: RuntimeWarning: Channel names are not unique, found duplicates for: {'EEG'}. Applying running numbers for duplicates.\n",
      "  next(self.gen)\n"
     ]
    },
    {
     "name": "stdout",
     "output_type": "stream",
     "text": [
      "EEG channel type selected for re-referencing\n",
      "Applying average reference.\n",
      "Applying a custom ('EEG',) reference.\n",
      "Used Annotations descriptions: ['1023', '1072', '276', '277', '32766', '768', '783']\n",
      "Not setting metadata\n",
      "288 matching events found\n",
      "Setting baseline interval to [-0.2, 0.0] s\n",
      "Applying baseline correction (mode: mean)\n",
      "0 projection items activated\n",
      "Using data from preloaded Raw for 288 events and 176 original time points ...\n",
      "0 bad epochs dropped\n",
      "Extracting EDF parameters from /home/quang/Study/Cognitive-Computing/cognitive-science-final-project/BCI2a/A08E.gdf...\n",
      "GDF file detected\n",
      "Setting channel info structure...\n",
      "Could not determine channel type of the following channels, they will be set as EEG:\n",
      "EEG-Fz, EEG, EEG, EEG, EEG, EEG, EEG, EEG-C3, EEG, EEG-Cz, EEG, EEG-C4, EEG, EEG, EEG, EEG, EEG, EEG, EEG, EEG-Pz, EEG, EEG\n",
      "Creating raw.info structure...\n",
      "Reading 0 ... 687791  =      0.000 ...  2751.164 secs...\n"
     ]
    },
    {
     "name": "stderr",
     "output_type": "stream",
     "text": [
      "/tmp/ipykernel_21363/2534373982.py:29: RuntimeWarning: No matching events found for right (event id 8)\n",
      "  epochs = mne.Epochs(\n",
      "/tmp/ipykernel_21363/2534373982.py:29: RuntimeWarning: No matching events found for foot (event id 9)\n",
      "  epochs = mne.Epochs(\n",
      "/tmp/ipykernel_21363/2534373982.py:29: RuntimeWarning: No matching events found for tongue (event id 10)\n",
      "  epochs = mne.Epochs(\n",
      "/home/quang/miniconda3/envs/cognitive-computing-env/lib/python3.12/contextlib.py:144: RuntimeWarning: Channel names are not unique, found duplicates for: {'EEG'}. Applying running numbers for duplicates.\n",
      "  next(self.gen)\n"
     ]
    },
    {
     "name": "stdout",
     "output_type": "stream",
     "text": [
      "EEG channel type selected for re-referencing\n",
      "Applying average reference.\n",
      "Applying a custom ('EEG',) reference.\n",
      "Used Annotations descriptions: ['1023', '1072', '276', '277', '32766', '768', '783']\n",
      "Not setting metadata\n",
      "288 matching events found\n",
      "Setting baseline interval to [-0.2, 0.0] s\n",
      "Applying baseline correction (mode: mean)\n",
      "0 projection items activated\n",
      "Using data from preloaded Raw for 288 events and 176 original time points ...\n",
      "0 bad epochs dropped\n",
      "Extracting EDF parameters from /home/quang/Study/Cognitive-Computing/cognitive-science-final-project/BCI2a/A09E.gdf...\n",
      "GDF file detected\n",
      "Setting channel info structure...\n",
      "Could not determine channel type of the following channels, they will be set as EEG:\n",
      "EEG-Fz, EEG, EEG, EEG, EEG, EEG, EEG, EEG-C3, EEG, EEG-Cz, EEG, EEG-C4, EEG, EEG, EEG, EEG, EEG, EEG, EEG, EEG-Pz, EEG, EEG\n",
      "Creating raw.info structure...\n",
      "Reading 0 ... 675097  =      0.000 ...  2700.388 secs...\n"
     ]
    },
    {
     "name": "stderr",
     "output_type": "stream",
     "text": [
      "/tmp/ipykernel_21363/2534373982.py:29: RuntimeWarning: No matching events found for right (event id 8)\n",
      "  epochs = mne.Epochs(\n",
      "/tmp/ipykernel_21363/2534373982.py:29: RuntimeWarning: No matching events found for foot (event id 9)\n",
      "  epochs = mne.Epochs(\n",
      "/tmp/ipykernel_21363/2534373982.py:29: RuntimeWarning: No matching events found for tongue (event id 10)\n",
      "  epochs = mne.Epochs(\n",
      "/home/quang/miniconda3/envs/cognitive-computing-env/lib/python3.12/contextlib.py:144: RuntimeWarning: Channel names are not unique, found duplicates for: {'EEG'}. Applying running numbers for duplicates.\n",
      "  next(self.gen)\n"
     ]
    },
    {
     "name": "stdout",
     "output_type": "stream",
     "text": [
      "EEG channel type selected for re-referencing\n",
      "Applying average reference.\n",
      "Applying a custom ('EEG',) reference.\n",
      "Used Annotations descriptions: ['1023', '1072', '276', '277', '32766', '768', '783']\n",
      "Not setting metadata\n",
      "288 matching events found\n",
      "Setting baseline interval to [-0.2, 0.0] s\n",
      "Applying baseline correction (mode: mean)\n",
      "0 projection items activated\n",
      "Using data from preloaded Raw for 288 events and 176 original time points ...\n",
      "0 bad epochs dropped\n",
      "Type of features: <class 'list'>\n",
      "Type of labels: <class 'list'>\n"
     ]
    },
    {
     "name": "stderr",
     "output_type": "stream",
     "text": [
      "/tmp/ipykernel_21363/2534373982.py:29: RuntimeWarning: No matching events found for right (event id 8)\n",
      "  epochs = mne.Epochs(\n",
      "/tmp/ipykernel_21363/2534373982.py:29: RuntimeWarning: No matching events found for foot (event id 9)\n",
      "  epochs = mne.Epochs(\n",
      "/tmp/ipykernel_21363/2534373982.py:29: RuntimeWarning: No matching events found for tongue (event id 10)\n",
      "  epochs = mne.Epochs(\n"
     ]
    }
   ],
   "source": [
    "import numpy as np\n",
    "\n",
    "features, labels = load_data(train = False)\n",
    "\n",
    "print(f'Type of features: {type(features)}')\n",
    "print(f'Type of labels: {type(labels)}')"
   ]
  },
  {
   "cell_type": "code",
   "execution_count": 21,
   "id": "be853a3d-ff18-49f8-aba4-cedc01b971a1",
   "metadata": {},
   "outputs": [
    {
     "name": "stdout",
     "output_type": "stream",
     "text": [
      "Feature's shape: \n",
      "(2592, 22, 176)\n",
      "Label's shape: \n",
      "(2592,)\n"
     ]
    }
   ],
   "source": [
    "features = np.concatenate(features)\n",
    "labels = np.concatenate(labels)\n",
    "\n",
    "print(\"Feature's shape: \")\n",
    "print(features.shape)\n",
    "print(\"Label's shape: \")\n",
    "print(labels.shape)"
   ]
  },
  {
   "cell_type": "code",
   "execution_count": 22,
   "id": "b0958e74-a539-44d5-9c3e-fa405b315489",
   "metadata": {},
   "outputs": [
    {
     "data": {
      "text/plain": [
       "0"
      ]
     },
     "execution_count": 22,
     "metadata": {},
     "output_type": "execute_result"
    }
   ],
   "source": [
    "np.isnan(features).sum()"
   ]
  },
  {
   "cell_type": "code",
   "execution_count": 23,
   "id": "9a54614b-a7ef-410a-8a6e-87e05251429d",
   "metadata": {},
   "outputs": [
    {
     "data": {
      "text/plain": [
       "0"
      ]
     },
     "execution_count": 23,
     "metadata": {},
     "output_type": "execute_result"
    }
   ],
   "source": [
    "np.isnan(labels).sum()"
   ]
  },
  {
   "cell_type": "code",
   "execution_count": 24,
   "id": "f2f496c4-a301-4ba6-a1b5-56530633ba67",
   "metadata": {},
   "outputs": [
    {
     "data": {
      "text/plain": [
       "(array([7]), array([2592]))"
      ]
     },
     "execution_count": 24,
     "metadata": {},
     "output_type": "execute_result"
    }
   ],
   "source": [
    "unique, counts = np.unique(labels, return_counts=True)\n",
    "unique, counts"
   ]
  },
  {
   "cell_type": "code",
   "execution_count": null,
   "id": "a32e0c78-349a-41e8-a9e0-a27660492213",
   "metadata": {},
   "outputs": [],
   "source": []
  }
 ],
 "metadata": {
  "kernelspec": {
   "display_name": "Python 3 (ipykernel)",
   "language": "python",
   "name": "python3"
  },
  "language_info": {
   "codemirror_mode": {
    "name": "ipython",
    "version": 3
   },
   "file_extension": ".py",
   "mimetype": "text/x-python",
   "name": "python",
   "nbconvert_exporter": "python",
   "pygments_lexer": "ipython3",
   "version": "3.12.2"
  }
 },
 "nbformat": 4,
 "nbformat_minor": 5
}
